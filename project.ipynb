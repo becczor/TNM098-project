{
 "cells": [
  {
   "cell_type": "markdown",
   "metadata": {},
   "source": [
    "# Project in TNM098 VT 2018, VAST Challenge MC2 2015\n",
    "\n",
    "This project will explore data containing phone calls between people in an amusement park. The questions that will be answered are:\n",
    "\n",
    "1. Identify those IDs that stand out for their large volumes of communication. For each of these IDs\n",
    "  1. Characterize the communication patterns you see.\n",
    "  2. Based on these patterns, what do you hypothesize about these IDs?\n",
    "\n",
    "Please limit your response to no more than 4 images and 300 words.\n",
    "\n",
    "2. Describe up to 10 communications patterns in the data. Characterize who is communicating, with whom, when and where. If you have more than 10 patterns to report, please prioritize those patterns that are most likely to relate to the crime.\n",
    "\n",
    "Please limit your response to no more than 10 images and 1000 words.\n",
    "\n",
    "#### My approach:\n",
    "To start solving the first problem, I would filter out all communication from the IDs with large volumes. From that I would try to visualize the following:\n",
    "* With who are these persons are communicating with?\n",
    "* From what places?\n",
    "* Where is the recipient located?\n",
    "* What time of the day?\n",
    "* Do the recipients communicate with each other?\n",
    "* And more possible properties of the communication data that are relevant\n"
   ]
  },
  {
   "cell_type": "markdown",
   "metadata": {},
   "source": [
    "First, start with imports."
   ]
  },
  {
   "cell_type": "code",
   "execution_count": 44,
   "metadata": {},
   "outputs": [],
   "source": [
    "import numpy as np\n",
    "import pandas as pd\n",
    "import nvd3\n",
    "import ipywidgets as widgets\n",
    "from IPython.display import display, HTML\n",
    "\n",
    "#import matplotlib.pyplot as plt\n",
    "#import pylab\n",
    "#import plotly.plotly as py"
   ]
  },
  {
   "cell_type": "markdown",
   "metadata": {},
   "source": [
    "Read in the data for Friday.\n",
    "Pandas series is a vector and a dataframe is a matrix of series."
   ]
  },
  {
   "cell_type": "code",
   "execution_count": 2,
   "metadata": {},
   "outputs": [],
   "source": [
    "data_Fri = pd.read_csv(\"data/comm-data-Fri.csv\")\n",
    "#type(data_Fri): pandas.core.frame.DataFrame\n",
    "#data_Fri.head(): gives 5 first elements\n",
    "\n",
    "\n",
    "#\tTimestamp \t\t\tfrom \t\tto \t\t\tlocation\n",
    "#0 \t2014-6-06 08:03:19 \t439105 \t\t1053224 \tKiddie Land\n",
    "#1 \t2014-6-06 08:03:19 \t439105 \t\t1696241 \tKiddie Land\n",
    "#2 \t2014-6-06 08:03:19 \t439105 \t\t580064 \t\tKiddie Land\n",
    "#3 \t2014-6-06 08:03:19 \t439105 \t\t1464748 \tKiddie Land\n",
    "#4 \t2014-6-06 08:03:47 \t1836139 \t1593258 \tEntry Corridor\n"
   ]
  },
  {
   "cell_type": "markdown",
   "metadata": {},
   "source": [
    "Find out which senders stand out for their large communication volumes. Pick the five largest."
   ]
  },
  {
   "cell_type": "code",
   "execution_count": 45,
   "metadata": {},
   "outputs": [],
   "source": [
    "#Count occurrences for each sender\n",
    "from_data = data_Fri['from']\n",
    "to_data = data_Fri['to']\n",
    "send_counts = from_data.value_counts()\n",
    "receive_counts = to_data.value_counts()\n",
    "\n",
    "#print(send_counts)\n",
    "#print(receive_counts)\n",
    "\n",
    "#send_average = send_counts.mean()\n",
    "#receive_average = receive_counts.mean()\n",
    "\n",
    "too_low_senders = send_counts[send_counts <= 1650].index\n",
    "highest_senders = send_counts.drop(too_low_senders)\n",
    "\n",
    "too_low_receivers = receive_counts[receive_counts <= 1350].index\n",
    "# Remove 'external' from receivers\n",
    "too_low_receivers = too_low_receivers.append(pd.Index(['external']))\n",
    "highest_receivers = receive_counts.drop(too_low_receivers)\n",
    "\n",
    "#print(highest_senders)\n",
    "#print(highest_receivers)"
   ]
  },
  {
   "cell_type": "markdown",
   "metadata": {},
   "source": [
    "Different ways to access the data in the DataFrame"
   ]
  },
  {
   "cell_type": "code",
   "execution_count": 4,
   "metadata": {},
   "outputs": [],
   "source": [
    "#data_Fri.loc[0:1, ['to', 'location']]\n",
    "#data_Fri['from']"
   ]
  },
  {
   "cell_type": "code",
   "execution_count": 34,
   "metadata": {},
   "outputs": [
    {
     "data": {
      "application/vnd.jupyter.widget-view+json": {
       "model_id": "91e7b7bf2d5448e296c3373736bbc775",
       "version_major": 2,
       "version_minor": 0
      },
      "text/plain": [
       "Dropdown(description='Number:', index=1, options=('1', '2', '3'), value='2')"
      ]
     },
     "metadata": {},
     "output_type": "display_data"
    }
   ],
   "source": [
    "widgets.Dropdown(\n",
    "    options=['1', '2', '3'],\n",
    "    value='2',\n",
    "    description='Number:',\n",
    "    disabled=False,\n",
    ")\n",
    "#display(w)"
   ]
  },
  {
   "cell_type": "markdown",
   "metadata": {},
   "source": [
    "Use nvd3 to construct the plot, and export it to view as html."
   ]
  },
  {
   "cell_type": "code",
   "execution_count": 46,
   "metadata": {},
   "outputs": [
    {
     "data": {
      "text/html": [
       "<link media=\"all\" href=\"https://cdnjs.cloudflare.com/ajax/libs/nvd3/1.7.0/nv.d3.min.css\" type=\"text/css\"\n",
       "                        rel=\"stylesheet\"/>"
      ],
      "text/plain": [
       "<IPython.core.display.HTML object>"
      ]
     },
     "metadata": {},
     "output_type": "display_data"
    },
    {
     "data": {
      "application/javascript": [
       "$.getScript(\"https://cdnjs.cloudflare.com/ajax/libs/nvd3/1.7.0/nv.d3.min.js\")"
      ],
      "text/plain": [
       "<IPython.core.display.Javascript object>"
      ]
     },
     "metadata": {},
     "output_type": "display_data"
    },
    {
     "data": {
      "application/javascript": [
       "$.getScript(\"https://cdnjs.cloudflare.com/ajax/libs/d3/3.5.5/d3.min.js\", function() {\n",
       "                              $.getScript(\"https://cdnjs.cloudflare.com/ajax/libs/nvd3/1.7.0/nv.d3.min.js\", function() {})});"
      ],
      "text/plain": [
       "<IPython.core.display.Javascript object>"
      ]
     },
     "metadata": {},
     "output_type": "display_data"
    },
    {
     "data": {
      "text/html": [
       "<script src=\"https://cdnjs.cloudflare.com/ajax/libs/d3/3.5.5/d3.min.js\"></script>"
      ],
      "text/plain": [
       "<IPython.core.display.HTML object>"
      ]
     },
     "metadata": {},
     "output_type": "display_data"
    },
    {
     "data": {
      "text/html": [
       "<script src=\"https://cdnjs.cloudflare.com/ajax/libs/nvd3/1.7.0/nv.d3.min.js\"></script>"
      ],
      "text/plain": [
       "<IPython.core.display.HTML object>"
      ]
     },
     "metadata": {},
     "output_type": "display_data"
    },
    {
     "data": {
      "text/html": [
       "<!DOCTYPE html>\n",
       "<html lang=\"en\">\n",
       "    <head>\n",
       "        <meta charset=\"utf-8\" />\n",
       "        <link href=\"https://cdnjs.cloudflare.com/ajax/libs/nvd3/1.7.0/nv.d3.min.css\" rel=\"stylesheet\" />\n",
       "        <script src=\"https://cdnjs.cloudflare.com/ajax/libs/d3/3.5.5/d3.min.js\"></script>\n",
       "        <script src=\"https://cdnjs.cloudflare.com/ajax/libs/nvd3/1.7.0/nv.d3.min.js\"></script>\n",
       "    </head>\n",
       "    <body>\n",
       "        \n",
       "    <div id=\"discretebarchart\"><svg style=\"width:1500px;height:700px;\"></svg></div>\n",
       "\n",
       "\n",
       "    <script>\n",
       "\n",
       "\n",
       "\n",
       "                data_discretebarchart=[{\"values\": [{\"x\": 1278894, \"y\": 38658}, {\"x\": 839736, \"y\": 5914}, {\"x\": 1508923, \"y\": 1896}, {\"x\": 825466, \"y\": 1850}, {\"x\": 970490, \"y\": 1686}], \"key\": \"Serie 1\", \"yAxis\": \"1\"}];\n",
       "\n",
       "\n",
       "            nv.addGraph(function() {\n",
       "        var chart = nv.models.discreteBarChart();\n",
       "\n",
       "        chart.margin({top: 30, right: 60, bottom: 20, left: 60});\n",
       "\n",
       "        var datum = data_discretebarchart;\n",
       "\n",
       "\n",
       "\n",
       "                    chart.yAxis\n",
       "                .tickFormat(d3.format(',.0f'));\n",
       "\n",
       "    \n",
       "    \n",
       "\n",
       "        \n",
       "\n",
       "\n",
       "\n",
       "            d3.select('#discretebarchart svg')\n",
       "            .datum(datum)\n",
       "            .transition().duration(500)\n",
       "            .attr('width', 1500)\n",
       "            .attr('height', 700)\n",
       "            .call(chart);\n",
       "\n",
       "    \n",
       "        });\n",
       "\n",
       "\n",
       "\n",
       "    </script>\n",
       "\n",
       "    </body>\n",
       "</html>"
      ],
      "text/plain": [
       "<IPython.core.display.HTML object>"
      ]
     },
     "metadata": {},
     "output_type": "display_data"
    }
   ],
   "source": [
    "nvd3.ipynb.initialize_javascript(use_remote=True)\n",
    "np.random.seed(100)\n",
    "\n",
    "chart_type = 'discreteBarChart'\n",
    "chart = nvd3.discreteBarChart(name=chart_type, height=700, width=1500)\n",
    "\n",
    "ydata = highest_senders.to_list()\n",
    "xdata = list(highest_senders.keys())\n",
    "\n",
    "chart.add_serie(y=ydata, x=xdata)\n",
    "chart.buildhtml()\n",
    "chart_html = chart.htmlcontent\n",
    "\n",
    "# The chart in html code\n",
    "#chart_html\n",
    "\n",
    "# Show the plot\n",
    "display(HTML(chart_html))"
   ]
  },
  {
   "cell_type": "markdown",
   "metadata": {},
   "source": [
    "Since 1278894 is clearly the biggest sender and receiver, a closer look will be made on its communication patterns."
   ]
  },
  {
   "cell_type": "code",
   "execution_count": 54,
   "metadata": {},
   "outputs": [
    {
     "name": "stdout",
     "output_type": "stream",
     "text": [
      "                 Timestamp     from       to        location\n",
      "192866  2014-6-06 12:00:00  1278894  1231028  Entry Corridor\n",
      "192867  2014-6-06 12:00:00  1278894   626177  Entry Corridor\n",
      "192868  2014-6-06 12:00:00  1278894  1281941  Entry Corridor\n",
      "192869  2014-6-06 12:00:00  1278894    96504  Entry Corridor\n",
      "192870  2014-6-06 12:00:00  1278894   256620  Entry Corridor\n",
      "192871  2014-6-06 12:00:00  1278894   656123  Entry Corridor\n",
      "192872  2014-6-06 12:00:00  1278894  1295204  Entry Corridor\n",
      "192873  2014-6-06 12:00:00  1278894  1688081  Entry Corridor\n",
      "192874  2014-6-06 12:00:00  1278894   953336  Entry Corridor\n",
      "192875  2014-6-06 12:00:00  1278894   142394  Entry Corridor\n",
      "192876  2014-6-06 12:00:00  1278894  1242773  Entry Corridor\n",
      "192877  2014-6-06 12:00:00  1278894   477978  Entry Corridor\n",
      "192878  2014-6-06 12:00:00  1278894   856067  Entry Corridor\n",
      "192879  2014-6-06 12:00:00  1278894   315002  Entry Corridor\n",
      "192880  2014-6-06 12:00:00  1278894  1399755  Entry Corridor\n",
      "192881  2014-6-06 12:00:00  1278894  1207988  Entry Corridor\n",
      "192882  2014-6-06 12:00:00  1278894  1255453  Entry Corridor\n",
      "192883  2014-6-06 12:00:00  1278894    69530  Entry Corridor\n",
      "192884  2014-6-06 12:00:00  1278894  2057936  Entry Corridor\n",
      "192885  2014-6-06 12:00:00  1278894    37693  Entry Corridor\n",
      "192886  2014-6-06 12:00:00  1278894   974601  Entry Corridor\n",
      "192887  2014-6-06 12:00:00  1278894  1358002  Entry Corridor\n",
      "192888  2014-6-06 12:00:00  1278894  1846010  Entry Corridor\n",
      "192889  2014-6-06 12:00:00  1278894  2022703  Entry Corridor\n",
      "192890  2014-6-06 12:00:00  1278894   469296  Entry Corridor\n",
      "192891  2014-6-06 12:00:00  1278894  1865282  Entry Corridor\n",
      "192892  2014-6-06 12:00:00  1278894   885675  Entry Corridor\n",
      "192893  2014-6-06 12:00:00  1278894  1648997  Entry Corridor\n",
      "192894  2014-6-06 12:00:00  1278894  1412631  Entry Corridor\n",
      "192895  2014-6-06 12:00:00  1278894   284296  Entry Corridor\n",
      "...                    ...      ...      ...             ...\n",
      "894958  2014-6-06 20:55:00  1278894   551078  Entry Corridor\n",
      "894959  2014-6-06 20:55:00  1278894  2079904  Entry Corridor\n",
      "894960  2014-6-06 20:55:00  1278894  1932219  Entry Corridor\n",
      "894961  2014-6-06 20:55:00  1278894   217385  Entry Corridor\n",
      "894962  2014-6-06 20:55:00  1278894   896242  Entry Corridor\n",
      "894963  2014-6-06 20:55:00  1278894  1636226  Entry Corridor\n",
      "894964  2014-6-06 20:55:00  1278894  1510830  Entry Corridor\n",
      "894965  2014-6-06 20:55:00  1278894   543168  Entry Corridor\n",
      "894966  2014-6-06 20:55:00  1278894  1629621  Entry Corridor\n",
      "894967  2014-6-06 20:55:00  1278894  1937834  Entry Corridor\n",
      "894968  2014-6-06 20:55:00  1278894   520054  Entry Corridor\n",
      "894969  2014-6-06 20:55:00  1278894  1931368  Entry Corridor\n",
      "894970  2014-6-06 20:55:00  1278894  1578455  Entry Corridor\n",
      "894971  2014-6-06 20:55:00  1278894  1014820  Entry Corridor\n",
      "894972  2014-6-06 20:55:00  1278894  1243677  Entry Corridor\n",
      "894973  2014-6-06 20:55:00  1278894  1230079  Entry Corridor\n",
      "894974  2014-6-06 20:55:00  1278894  1437636  Entry Corridor\n",
      "894975  2014-6-06 20:55:00  1278894   626101  Entry Corridor\n",
      "894976  2014-6-06 20:55:00  1278894  1865730  Entry Corridor\n",
      "894977  2014-6-06 20:55:00  1278894   614566  Entry Corridor\n",
      "894978  2014-6-06 20:55:00  1278894   174727  Entry Corridor\n",
      "894979  2014-6-06 20:55:00  1278894   762079  Entry Corridor\n",
      "894980  2014-6-06 20:55:00  1278894  1494697  Entry Corridor\n",
      "894981  2014-6-06 20:55:00  1278894   767374  Entry Corridor\n",
      "894982  2014-6-06 20:55:00  1278894  1644063  Entry Corridor\n",
      "894983  2014-6-06 20:55:00  1278894   883344  Entry Corridor\n",
      "894984  2014-6-06 20:55:00  1278894  1977746  Entry Corridor\n",
      "894985  2014-6-06 20:55:00  1278894   558149  Entry Corridor\n",
      "894986  2014-6-06 20:55:00  1278894  1697086  Entry Corridor\n",
      "894987  2014-6-06 20:55:00  1278894   233616  Entry Corridor\n",
      "\n",
      "[38658 rows x 4 columns]\n"
     ]
    }
   ],
   "source": [
    "# Get all data where 1278894 is the sender\n",
    "sender_1278894 = data_Fri[data_Fri['from'] == 1278894]\n",
    "\n",
    "# \n",
    "counts = sender_1278894.value_counts()"
   ]
  },
  {
   "cell_type": "code",
   "execution_count": 50,
   "metadata": {},
   "outputs": [
    {
     "data": {
      "text/html": [
       "<!DOCTYPE html>\n",
       "<html lang=\"en\">\n",
       "    <head>\n",
       "        <meta charset=\"utf-8\" />\n",
       "        <link href=\"https://cdnjs.cloudflare.com/ajax/libs/nvd3/1.7.0/nv.d3.min.css\" rel=\"stylesheet\" />\n",
       "        <script src=\"https://cdnjs.cloudflare.com/ajax/libs/d3/3.5.5/d3.min.js\"></script>\n",
       "        <script src=\"https://cdnjs.cloudflare.com/ajax/libs/nvd3/1.7.0/nv.d3.min.js\"></script>\n",
       "    </head>\n",
       "    <body>\n",
       "        \n",
       "    <div id=\"stackedareachart\"><svg style=\"width:1500px;height:700px;\"></svg></div>\n",
       "\n",
       "\n",
       "    <script>\n",
       "\n",
       "\n",
       "            data_stackedareachart=[{\"values\": [{\"x\": 100, \"y\": 6}, {\"x\": 101, \"y\": 11}, {\"x\": 102, \"y\": 12}, {\"x\": 103, \"y\": 7}, {\"x\": 104, \"y\": 11}, {\"x\": 105, \"y\": 10}, {\"x\": 106, \"y\": 11}], \"key\": \"Serie 1\", \"yAxis\": \"1\"}, {\"values\": [{\"x\": 100, \"y\": 8}, {\"x\": 101, \"y\": 20}, {\"x\": 102, \"y\": 16}, {\"x\": 103, \"y\": 12}, {\"x\": 104, \"y\": 20}, {\"x\": 105, \"y\": 28}, {\"x\": 106, \"y\": 28}], \"key\": \"Serie 2\", \"yAxis\": \"1\"}];\n",
       "\n",
       "    nv.addGraph(function() {\n",
       "        var chart = nv.models.stackedAreaChart();\n",
       "\n",
       "        chart.margin({top: 30, right: 60, bottom: 20, left: 60});\n",
       "\n",
       "        var datum = data_stackedareachart;\n",
       "\n",
       "\n",
       "\n",
       "\n",
       "\n",
       "            chart.xAxis\n",
       "                .tickFormat(d3.format(',.2f'));\n",
       "            chart.yAxis\n",
       "                .tickFormat(d3.format(',.2f'));\n",
       "\n",
       "                    chart.tooltipContent(function(key, y, e, graph) {\n",
       "                        var x = String(graph.point.x);\n",
       "                        var y = String(graph.point.y);\n",
       "                                            if(key == 'Serie 1'){\n",
       "                        var y = 'There is ' +  String(graph.point.y)  + ' min';\n",
       "                    }\n",
       "                    if(key == 'Serie 2'){\n",
       "                        var y = 'There is ' +  String(graph.point.y)  + ' min';\n",
       "                    }\n",
       "\n",
       "                        tooltip_str = '<center><b>'+key+'</b></center>' + y + ' at ' + x;\n",
       "                        return tooltip_str;\n",
       "                    });\n",
       "\n",
       "      chart.showLegend(true);\n",
       "\n",
       "\n",
       "\n",
       "        \n",
       "\n",
       "\n",
       "        d3.select('#stackedareachart svg')\n",
       "            .datum(datum)\n",
       "            .transition().duration(500)\n",
       "            .attr('width', 1500)\n",
       "            .attr('height', 700)\n",
       "            .call(chart);\n",
       "\n",
       "\n",
       "    });\n",
       "\n",
       "\n",
       "\n",
       "    </script>\n",
       "\n",
       "    </body>\n",
       "</html>"
      ],
      "text/plain": [
       "<IPython.core.display.HTML object>"
      ]
     },
     "metadata": {},
     "output_type": "display_data"
    }
   ],
   "source": [
    "\n",
    "\n",
    "\n",
    "from nvd3 import stackedAreaChart\n",
    "chart = stackedAreaChart(name='stackedAreaChart', height=700, width=1500)\n",
    "\n",
    "xdata = [100, 101, 102, 103, 104, 105, 106,]\n",
    "ydata = [6, 11, 12, 7, 11, 10, 11]\n",
    "ydata2 = [8, 20, 16, 12, 20, 28, 28]\n",
    "\n",
    "extra_serie = {\"tooltip\": {\"y_start\": \"There is \", \"y_end\": \" min\"}}\n",
    "chart.add_serie(name=\"Serie 1\", y=ydata, x=xdata, extra=extra_serie)\n",
    "chart.add_serie(name=\"Serie 2\", y=ydata2, x=xdata, extra=extra_serie)\n",
    "chart.buildhtml()\n",
    "\n",
    "chart_html = chart.htmlcontent\n",
    "\n",
    "# The chart in html code\n",
    "#chart_html\n",
    "\n",
    "# Show the plot\n",
    "display(HTML(chart_html))"
   ]
  },
  {
   "cell_type": "code",
   "execution_count": null,
   "metadata": {},
   "outputs": [],
   "source": []
  }
 ],
 "metadata": {
  "kernelspec": {
   "display_name": "Python 3",
   "language": "python",
   "name": "python3"
  },
  "language_info": {
   "codemirror_mode": {
    "name": "ipython",
    "version": 3
   },
   "file_extension": ".py",
   "mimetype": "text/x-python",
   "name": "python",
   "nbconvert_exporter": "python",
   "pygments_lexer": "ipython3",
   "version": "3.6.5"
  }
 },
 "nbformat": 4,
 "nbformat_minor": 2
}
