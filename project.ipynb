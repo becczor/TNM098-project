{
 "cells": [
  {
   "cell_type": "markdown",
   "metadata": {},
   "source": [
    "# Project in TNM098 VT 2018, VAST Challenge MC2 2015\n",
    "\n",
    "This project will explore data containing phone calls between people in an amusement park. The questions that will be answered are:\n",
    "\n",
    "1. Identify those IDs that stand out for their large volumes of communication. For each of these IDs\n",
    "  1. Characterize the communication patterns you see.\n",
    "  2. Based on these patterns, what do you hypothesize about these IDs?\n",
    "\n",
    "Please limit your response to no more than 4 images and 300 words.\n",
    "\n",
    "2. Describe up to 10 communications patterns in the data. Characterize who is communicating, with whom, when and where. If you have more than 10 patterns to report, please prioritize those patterns that are most likely to relate to the crime.\n",
    "\n",
    "Please limit your response to no more than 10 images and 1000 words.\n",
    "\n",
    "#### My approach:\n",
    "To start solving the first problem, I would filter out all communication from the IDs with large volumes. From that I would try to visualize the following:\n",
    "* With who are these persons are communicating with?\n",
    "* From what places?\n",
    "* Where is the recipient located?\n",
    "* What time of the day?\n",
    "* Do the recipients communicate with each other?\n",
    "* And more possible properties of the communication data that are relevant\n"
   ]
  },
  {
   "cell_type": "markdown",
   "metadata": {},
   "source": [
    "First, start with imports."
   ]
  },
  {
   "cell_type": "code",
   "execution_count": 1,
   "metadata": {},
   "outputs": [
    {
     "name": "stdout",
     "output_type": "stream",
     "text": [
      "loaded nvd3 IPython extension\n",
      "run nvd3.ipynb.initialize_javascript() to set up the notebook\n",
      "help(nvd3.ipynb.initialize_javascript) for options\n"
     ]
    }
   ],
   "source": [
    "import numpy as np\n",
    "import pandas as pd\n",
    "import nvd3\n",
    "import ipywidgets as widgets\n",
    "from IPython.display import display, HTML\n",
    "import datetime\n",
    "import time\n",
    "\n",
    "#import matplotlib.pyplot as plt\n",
    "#import pylab\n",
    "#import plotly.plotly as py"
   ]
  },
  {
   "cell_type": "markdown",
   "metadata": {},
   "source": [
    "Read in the data for Friday.\n",
    "Pandas series is a vector and a dataframe is a matrix of series."
   ]
  },
  {
   "cell_type": "code",
   "execution_count": 2,
   "metadata": {},
   "outputs": [],
   "source": [
    "data_Fri = pd.read_csv(\"data/comm-data-Fri.csv\")\n",
    "#type(data_Fri): pandas.core.frame.DataFrame\n",
    "#data_Fri.head(): gives 5 first elements\n",
    "\n",
    "\n",
    "#\tTimestamp \t\t\tfrom \t\tto \t\t\tlocation\n",
    "#0 \t2014-6-06 08:03:19 \t439105 \t\t1053224 \tKiddie Land\n",
    "#1 \t2014-6-06 08:03:19 \t439105 \t\t1696241 \tKiddie Land\n",
    "#2 \t2014-6-06 08:03:19 \t439105 \t\t580064 \t\tKiddie Land\n",
    "#3 \t2014-6-06 08:03:19 \t439105 \t\t1464748 \tKiddie Land\n",
    "#4 \t2014-6-06 08:03:47 \t1836139 \t1593258 \tEntry Corridor\n"
   ]
  },
  {
   "cell_type": "markdown",
   "metadata": {},
   "source": [
    "Find out which senders stand out for their large communication volumes. Pick the five largest."
   ]
  },
  {
   "cell_type": "code",
   "execution_count": 3,
   "metadata": {},
   "outputs": [],
   "source": [
    "#Count occurrences for each sender\n",
    "from_data = data_Fri['from']\n",
    "to_data = data_Fri['to']\n",
    "send_counts = from_data.value_counts()\n",
    "receive_counts = to_data.value_counts()\n",
    "\n",
    "#print(send_counts)\n",
    "#print(receive_counts)\n",
    "\n",
    "#send_average = send_counts.mean()\n",
    "#receive_average = receive_counts.mean()\n",
    "\n",
    "too_low_senders = send_counts[send_counts <= 1650].index\n",
    "highest_senders = send_counts.drop(too_low_senders)\n",
    "\n",
    "too_low_receivers = receive_counts[receive_counts <= 1350].index\n",
    "# Remove 'external' from receivers\n",
    "too_low_receivers = too_low_receivers.append(pd.Index(['external']))\n",
    "highest_receivers = receive_counts.drop(too_low_receivers)\n",
    "\n",
    "#print(highest_senders)\n",
    "#print(highest_receivers)"
   ]
  },
  {
   "cell_type": "markdown",
   "metadata": {},
   "source": [
    "Different ways to access the data in the DataFrame"
   ]
  },
  {
   "cell_type": "code",
   "execution_count": 4,
   "metadata": {},
   "outputs": [],
   "source": [
    "#data_Fri.loc[0:1, ['to', 'location']]\n",
    "#data_Fri['from']"
   ]
  },
  {
   "cell_type": "code",
   "execution_count": 5,
   "metadata": {},
   "outputs": [
    {
     "data": {
      "application/vnd.jupyter.widget-view+json": {
       "model_id": "b51b3162530f41c2a916f60d0b936ecc",
       "version_major": 2,
       "version_minor": 0
      },
      "text/plain": [
       "Dropdown(description='Number:', index=1, options=('1', '2', '3'), value='2')"
      ]
     },
     "metadata": {},
     "output_type": "display_data"
    }
   ],
   "source": [
    "widgets.Dropdown(\n",
    "    options=['1', '2', '3'],\n",
    "    value='2',\n",
    "    description='Number:',\n",
    "    disabled=False,\n",
    ")\n",
    "#display(w)"
   ]
  },
  {
   "cell_type": "markdown",
   "metadata": {},
   "source": [
    "Use nvd3 to construct the plot, and export it to view as html."
   ]
  },
  {
   "cell_type": "code",
   "execution_count": 10,
   "metadata": {},
   "outputs": [
    {
     "data": {
      "text/html": [
       "<link media=\"all\" href=\"https://cdnjs.cloudflare.com/ajax/libs/nvd3/1.7.0/nv.d3.min.css\" type=\"text/css\"\n",
       "                        rel=\"stylesheet\"/>"
      ],
      "text/plain": [
       "<IPython.core.display.HTML object>"
      ]
     },
     "metadata": {},
     "output_type": "display_data"
    },
    {
     "data": {
      "application/javascript": [
       "$.getScript(\"https://cdnjs.cloudflare.com/ajax/libs/nvd3/1.7.0/nv.d3.min.js\")"
      ],
      "text/plain": [
       "<IPython.core.display.Javascript object>"
      ]
     },
     "metadata": {},
     "output_type": "display_data"
    },
    {
     "data": {
      "application/javascript": [
       "$.getScript(\"https://cdnjs.cloudflare.com/ajax/libs/d3/3.5.5/d3.min.js\", function() {\n",
       "                              $.getScript(\"https://cdnjs.cloudflare.com/ajax/libs/nvd3/1.7.0/nv.d3.min.js\", function() {})});"
      ],
      "text/plain": [
       "<IPython.core.display.Javascript object>"
      ]
     },
     "metadata": {},
     "output_type": "display_data"
    },
    {
     "data": {
      "text/html": [
       "<script src=\"https://cdnjs.cloudflare.com/ajax/libs/d3/3.5.5/d3.min.js\"></script>"
      ],
      "text/plain": [
       "<IPython.core.display.HTML object>"
      ]
     },
     "metadata": {},
     "output_type": "display_data"
    },
    {
     "data": {
      "text/html": [
       "<script src=\"https://cdnjs.cloudflare.com/ajax/libs/nvd3/1.7.0/nv.d3.min.js\"></script>"
      ],
      "text/plain": [
       "<IPython.core.display.HTML object>"
      ]
     },
     "metadata": {},
     "output_type": "display_data"
    },
    {
     "data": {
      "text/html": [
       "<!DOCTYPE html>\n",
       "<html lang=\"en\">\n",
       "    <head>\n",
       "        <meta charset=\"utf-8\" />\n",
       "        <link href=\"https://cdnjs.cloudflare.com/ajax/libs/nvd3/1.7.0/nv.d3.min.css\" rel=\"stylesheet\" />\n",
       "        <script src=\"https://cdnjs.cloudflare.com/ajax/libs/d3/3.5.5/d3.min.js\"></script>\n",
       "        <script src=\"https://cdnjs.cloudflare.com/ajax/libs/nvd3/1.7.0/nv.d3.min.js\"></script>\n",
       "    </head>\n",
       "    <body>\n",
       "        \n",
       "    <div id=\"discretebarchart\"><svg style=\"width:1500px;height:700px;\"></svg></div>\n",
       "\n",
       "\n",
       "    <script>\n",
       "\n",
       "\n",
       "\n",
       "                data_discretebarchart=[{\"values\": [{\"x\": 1278894, \"y\": 38658}, {\"x\": 839736, \"y\": 5914}, {\"x\": 1508923, \"y\": 1896}, {\"x\": 825466, \"y\": 1850}, {\"x\": 970490, \"y\": 1686}], \"key\": \"Serie 1\", \"yAxis\": \"1\"}];\n",
       "\n",
       "\n",
       "            nv.addGraph(function() {\n",
       "        var chart = nv.models.discreteBarChart();\n",
       "\n",
       "        chart.margin({top: 30, right: 60, bottom: 20, left: 60});\n",
       "\n",
       "        var datum = data_discretebarchart;\n",
       "\n",
       "\n",
       "\n",
       "                    chart.yAxis\n",
       "                .tickFormat(d3.format(',.0f'));\n",
       "\n",
       "    \n",
       "    \n",
       "\n",
       "        \n",
       "\n",
       "\n",
       "\n",
       "            d3.select('#discretebarchart svg')\n",
       "            .datum(datum)\n",
       "            .transition().duration(500)\n",
       "            .attr('width', 1500)\n",
       "            .attr('height', 700)\n",
       "            .call(chart);\n",
       "\n",
       "    \n",
       "        });\n",
       "\n",
       "\n",
       "\n",
       "    </script>\n",
       "\n",
       "    </body>\n",
       "</html>"
      ],
      "text/plain": [
       "<IPython.core.display.HTML object>"
      ]
     },
     "metadata": {},
     "output_type": "display_data"
    }
   ],
   "source": [
    "nvd3.ipynb.initialize_javascript(use_remote=True)\n",
    "np.random.seed(100)\n",
    "\n",
    "chart_type = 'discreteBarChart'\n",
    "chart = nvd3.discreteBarChart(name=chart_type, height=700, width=1500)\n",
    "\n",
    "ydata = highest_senders.to_list()\n",
    "xdata = list(highest_senders.keys())\n",
    "\n",
    "chart.add_serie(y=ydata, x=xdata)\n",
    "chart.buildhtml()\n",
    "chart_html = chart.htmlcontent\n",
    "\n",
    "# The chart in html code\n",
    "#chart_html\n",
    "\n",
    "# Show the plot\n",
    "display(HTML(chart_html))"
   ]
  },
  {
   "cell_type": "markdown",
   "metadata": {},
   "source": [
    "Since 1278894 is clearly the biggest sender and receiver, a closer look will be made on its communication patterns."
   ]
  },
  {
   "cell_type": "code",
   "execution_count": 7,
   "metadata": {},
   "outputs": [],
   "source": [
    "# Function for fixing date format in data to be able to compare dates\n",
    "def convert_to_datetime(str_date):\n",
    "    #print(str_date)\n",
    "    date = str_date[0:5] + \"0\" + str_date[5:]\n",
    "    return datetime.datetime.strptime(date, \"%Y-%m-%d %H:%M:%S\")"
   ]
  },
  {
   "cell_type": "code",
   "execution_count": 8,
   "metadata": {},
   "outputs": [],
   "source": [
    "# Get all data where 1278894 is the sender\n",
    "sender_1278894 = data_Fri[data_Fri['from'] == 1278894]\n",
    "#print(sender_1278894.sort_values('Timestamp'))\n",
    "#print(sender_1278894)\n",
    "#for label, content in sender_1278894.iteritems():\n",
    "#    print('label:', label)\n",
    "#    print('content:', content, sep='\\n')\n",
    "#timestamps = sender_1278894['Timestamp']\n",
    "#for index, data in timestamps.iteritems():\n",
    "#    data = convert_to_datetime(data)\n",
    "#print(timestamps)\n",
    "# \n",
    "\n",
    "counts = sender_1278894['Timestamp'].value_counts()\n",
    "sorted_counts = counts.sort_index()\n",
    "\n",
    "\n",
    "#sorted_counts.to_list()\n",
    "#list(sorted_counts.keys())"
   ]
  },
  {
   "cell_type": "code",
   "execution_count": 9,
   "metadata": {},
   "outputs": [
    {
     "data": {
      "text/html": [
       "<!DOCTYPE html>\n",
       "<html lang=\"en\">\n",
       "    <head>\n",
       "        <meta charset=\"utf-8\" />\n",
       "        <link href=\"https://cdnjs.cloudflare.com/ajax/libs/nvd3/1.7.0/nv.d3.min.css\" rel=\"stylesheet\" />\n",
       "        <script src=\"https://cdnjs.cloudflare.com/ajax/libs/d3/3.5.5/d3.min.js\"></script>\n",
       "        <script src=\"https://cdnjs.cloudflare.com/ajax/libs/nvd3/1.7.0/nv.d3.min.js\"></script>\n",
       "    </head>\n",
       "    <body>\n",
       "        \n",
       "    <div id=\"stackedareachart\"><svg style=\"width:1500px;height:700px;\"></svg></div>\n",
       "\n",
       "\n",
       "    <script>\n",
       "\n",
       "\n",
       "            data_stackedareachart=[{\"values\": [{\"x\": 1402048800000.0, \"y\": 665}, {\"x\": 1402049100000.0, \"y\": 662}, {\"x\": 1402049400000.0, \"y\": 656}, {\"x\": 1402049700000.0, \"y\": 638}, {\"x\": 1402050000000.0, \"y\": 658}, {\"x\": 1402050300000.0, \"y\": 667}, {\"x\": 1402050600000.0, \"y\": 659}, {\"x\": 1402050900000.0, \"y\": 648}, {\"x\": 1402051200000.0, \"y\": 659}, {\"x\": 1402051500000.0, \"y\": 637}, {\"x\": 1402051800000.0, \"y\": 674}, {\"x\": 1402052100000.0, \"y\": 635}, {\"x\": 1402056000000.0, \"y\": 659}, {\"x\": 1402056300000.0, \"y\": 634}, {\"x\": 1402056600000.0, \"y\": 643}, {\"x\": 1402056900000.0, \"y\": 635}, {\"x\": 1402057200000.0, \"y\": 656}, {\"x\": 1402057500000.0, \"y\": 671}, {\"x\": 1402057800000.0, \"y\": 646}, {\"x\": 1402058100000.0, \"y\": 633}, {\"x\": 1402058400000.0, \"y\": 629}, {\"x\": 1402058700000.0, \"y\": 616}, {\"x\": 1402059000000.0, \"y\": 540}, {\"x\": 1402059300000.0, \"y\": 490}, {\"x\": 1402063200000.0, \"y\": 503}, {\"x\": 1402063500000.0, \"y\": 686}, {\"x\": 1402063800000.0, \"y\": 642}, {\"x\": 1402064100000.0, \"y\": 652}, {\"x\": 1402064400000.0, \"y\": 666}, {\"x\": 1402064700000.0, \"y\": 669}, {\"x\": 1402065000000.0, \"y\": 678}, {\"x\": 1402065300000.0, \"y\": 667}, {\"x\": 1402065600000.0, \"y\": 640}, {\"x\": 1402065900000.0, \"y\": 655}, {\"x\": 1402066200000.0, \"y\": 671}, {\"x\": 1402066500000.0, \"y\": 676}, {\"x\": 1402070400000.0, \"y\": 681}, {\"x\": 1402070700000.0, \"y\": 664}, {\"x\": 1402071000000.0, \"y\": 669}, {\"x\": 1402071300000.0, \"y\": 668}, {\"x\": 1402071600000.0, \"y\": 662}, {\"x\": 1402071900000.0, \"y\": 668}, {\"x\": 1402072200000.0, \"y\": 705}, {\"x\": 1402072500000.0, \"y\": 683}, {\"x\": 1402072800000.0, \"y\": 674}, {\"x\": 1402073100000.0, \"y\": 688}, {\"x\": 1402073400000.0, \"y\": 686}, {\"x\": 1402073700000.0, \"y\": 706}, {\"x\": 1402077600000.0, \"y\": 701}, {\"x\": 1402077900000.0, \"y\": 713}, {\"x\": 1402078200000.0, \"y\": 700}, {\"x\": 1402078500000.0, \"y\": 682}, {\"x\": 1402078800000.0, \"y\": 656}, {\"x\": 1402079100000.0, \"y\": 597}, {\"x\": 1402079400000.0, \"y\": 596}, {\"x\": 1402079700000.0, \"y\": 559}, {\"x\": 1402080000000.0, \"y\": 551}, {\"x\": 1402080300000.0, \"y\": 552}, {\"x\": 1402080600000.0, \"y\": 550}, {\"x\": 1402080900000.0, \"y\": 532}], \"key\": \"Serie 1\", \"yAxis\": \"1\"}];\n",
       "\n",
       "    nv.addGraph(function() {\n",
       "        var chart = nv.models.stackedAreaChart();\n",
       "\n",
       "        chart.margin({top: 30, right: 60, bottom: 20, left: 60});\n",
       "\n",
       "        var datum = data_stackedareachart;\n",
       "\n",
       "\n",
       "\n",
       "\n",
       "\n",
       "            chart.xAxis\n",
       "                .tickFormat(function(d) { return d3.time.format('%d %b %Y')(new Date(parseInt(d))) }\n",
       ");\n",
       "            chart.yAxis\n",
       "                .tickFormat(d3.format(',.2f'));\n",
       "\n",
       "                chart.tooltipContent(function(key, y, e, graph) {\n",
       "                    var x = d3.time.format(\"%d %b %Y\")(new Date(parseInt(graph.point.x)));\n",
       "                    var y = String(graph.point.y);\n",
       "                                        if(key == 'Serie 1'){\n",
       "                        var y = 'There is ' +  String(graph.point.y)  + ' min';\n",
       "                    }\n",
       "\n",
       "                    tooltip_str = '<center><b>'+key+'</b></center>' + y + ' on ' + x;\n",
       "                    return tooltip_str;\n",
       "                });\n",
       "\n",
       "      chart.showLegend(true);\n",
       "\n",
       "\n",
       "\n",
       "        \n",
       "\n",
       "\n",
       "        d3.select('#stackedareachart svg')\n",
       "            .datum(datum)\n",
       "            .transition().duration(500)\n",
       "            .attr('width', 1500)\n",
       "            .attr('height', 700)\n",
       "            .call(chart);\n",
       "\n",
       "\n",
       "    });\n",
       "\n",
       "\n",
       "\n",
       "    </script>\n",
       "\n",
       "    </body>\n",
       "</html>"
      ],
      "text/plain": [
       "<IPython.core.display.HTML object>"
      ]
     },
     "metadata": {},
     "output_type": "display_data"
    }
   ],
   "source": [
    "from nvd3 import stackedAreaChart\n",
    "chart = stackedAreaChart(name='stackedAreaChart', x_is_date=True, date_format=\"%d %b %Y\", height=700, width=1500)\n",
    "\n",
    "# Datetimes on x-axis\n",
    "xdata = [convert_to_datetime(x) for x in list(sorted_counts.keys())]\n",
    "xdata = [time.mktime(s.timetuple()) * 1000 for s in xdata]\n",
    "\n",
    "ydata = sorted_counts.to_list()\n",
    "#ydata2 = [8, 20, 16, 12, 20, 28, 28]\n",
    "\n",
    "extra_serie = {\"tooltip\": {\"y_start\": \"There is \", \"y_end\": \" min\"}}\n",
    "chart.add_serie(name=\"Serie 1\", y=ydata, x=xdata, extra=extra_serie)\n",
    "#chart.add_serie(name=\"Serie 2\", y=ydata2, x=xdata, extra=extra_serie)\n",
    "chart.buildhtml()\n",
    "\n",
    "chart_html = chart.htmlcontent\n",
    "\n",
    "# Show the plot\n",
    "display(HTML(chart_html))"
   ]
  },
  {
   "cell_type": "code",
   "execution_count": null,
   "metadata": {},
   "outputs": [],
   "source": []
  }
 ],
 "metadata": {
  "kernelspec": {
   "display_name": "Python 3",
   "language": "python",
   "name": "python3"
  },
  "language_info": {
   "codemirror_mode": {
    "name": "ipython",
    "version": 3
   },
   "file_extension": ".py",
   "mimetype": "text/x-python",
   "name": "python",
   "nbconvert_exporter": "python",
   "pygments_lexer": "ipython3",
   "version": "3.6.5"
  }
 },
 "nbformat": 4,
 "nbformat_minor": 2
}
