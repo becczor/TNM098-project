{
 "cells": [
  {
   "cell_type": "markdown",
   "metadata": {},
   "source": [
    "# Project in TNM098 VT 2018, VAST Challenge MC2 2015\n",
    "\n",
    "This project will explore data containing phone calls between people in an amusement park. The questions that will be answered are:\n",
    "\n",
    "1. Identify those IDs that stand out for their large volumes of communication. For each of these IDs\n",
    "  1. Characterize the communication patterns you see.\n",
    "  2. Based on these patterns, what do you hypothesize about these IDs?\n",
    "\n",
    "Please limit your response to no more than 4 images and 300 words.\n",
    "\n",
    "2. Describe up to 10 communications patterns in the data. Characterize who is communicating, with whom, when and where. If you have more than 10 patterns to report, please prioritize those patterns that are most likely to relate to the crime.\n",
    "\n",
    "Please limit your response to no more than 10 images and 1000 words.\n",
    "\n",
    "#### My approach:\n",
    "To start solving the first problem, I would filter out all communication from the IDs with large volumes. From that I would try to visualize the following:\n",
    "* With who are these persons are communicating with?\n",
    "* From what places?\n",
    "* Where is the recipient located?\n",
    "* What time of the day?\n",
    "* Do the recipients communicate with each other?\n",
    "* And more possible properties of the communication data that are relevant\n"
   ]
  },
  {
   "cell_type": "markdown",
   "metadata": {},
   "source": [
    "First, start with imports."
   ]
  },
  {
   "cell_type": "code",
   "execution_count": 4,
   "metadata": {},
   "outputs": [
    {
     "data": {
      "application/vnd.jupyter.widget-view+json": {
       "model_id": "6c24855f19504283b50676fe1e47c5e6",
       "version_major": 2,
       "version_minor": 0
      },
      "text/plain": [
       "Dropdown(description='Number:', index=1, options=('1', '2', '3'), value='2')"
      ]
     },
     "metadata": {},
     "output_type": "display_data"
    }
   ],
   "source": [
    "import numpy as np\n",
    "import pandas as pd\n",
    "import nvd3\n",
    "import ipywidgets as widgets\n",
    "from IPython.display import display, HTML\n",
    "import datetime\n",
    "import time\n",
    "import networkx as nx\n",
    "from nvd3 import stackedAreaChart\n",
    "import matplotlib as mpl\n",
    "import matplotlib.pyplot as plt\n",
    "\n",
    "mpl.rcParams['figure.figsize'] = (12,12)\n",
    "\n",
    "data_Fri = pd.read_csv(\"data/comm-data-Fri.csv\")\n",
    "\n",
    "# Get all the timestamps for the x-axis and set counter to zero for all to be \n",
    "# able to merge with individual recipients data later\n",
    "timestamps_fri = pd.Series(0, data_Fri.Timestamp.unique(), name='timestamps_fri')\n",
    "# Communication seems to be happening between 08:00 and 23:59 each day\n",
    "# Create 2 bins for each hour of the day\n",
    "no_of_bins = 24-8*2\n",
    "timebins = pd.Series(0, index=np.arange(no_of_bins), name='timebins')\n",
    "\n",
    "#import pylab\n",
    "#import plotly.plotly as py\n",
    "\n",
    "widgets.Dropdown(\n",
    "    options=['1', '2', '3'],\n",
    "    value='2',\n",
    "    description='Number:',\n",
    "    disabled=False,\n",
    ")\n",
    "#display(w)"
   ]
  },
  {
   "cell_type": "markdown",
   "metadata": {},
   "source": [
    "Find out which senders stand out for their large communication volumes. Pick the five largest."
   ]
  },
  {
   "cell_type": "code",
   "execution_count": 2,
   "metadata": {},
   "outputs": [],
   "source": [
    "#Count occurrences for each sender\n",
    "from_data = data_Fri['from']\n",
    "to_data = data_Fri['to']\n",
    "send_counts = from_data.value_counts()\n",
    "receive_counts = to_data.value_counts()\n",
    "\n",
    "too_low_senders = send_counts[send_counts <= 1650].index\n",
    "highest_senders = send_counts.drop(too_low_senders)\n",
    "\n",
    "too_low_receivers = receive_counts[receive_counts <= 1350].index\n",
    "# Remove 'external' from receivers\n",
    "too_low_receivers = too_low_receivers.append(pd.Index(['external']))\n",
    "highest_receivers = receive_counts.drop(too_low_receivers)"
   ]
  },
  {
   "cell_type": "markdown",
   "metadata": {},
   "source": [
    "Use nvd3 to construct the plot, and export it to view as html."
   ]
  },
  {
   "cell_type": "code",
   "execution_count": null,
   "metadata": {},
   "outputs": [],
   "source": [
    "nvd3.ipynb.initialize_javascript(use_remote=True)\n",
    "\n",
    "chart_type = 'discreteBarChart'\n",
    "chart = nvd3.discreteBarChart(name=\"highest_senders\", height=700, width=1500)\n",
    "\n",
    "ydata = highest_senders.to_list()\n",
    "xdata = list(highest_senders.keys())\n",
    "\n",
    "chart.add_serie(y=ydata, x=xdata)\n",
    "chart.buildhtml()\n",
    "chart_html = chart.htmlcontent\n",
    "\n",
    "# Show the plot\n",
    "display(HTML(chart_html))"
   ]
  },
  {
   "cell_type": "markdown",
   "metadata": {},
   "source": [
    "Since 1278894 is clearly the biggest sender and receiver, a closer look will be made on its communication patterns."
   ]
  },
  {
   "cell_type": "code",
   "execution_count": null,
   "metadata": {},
   "outputs": [],
   "source": [
    "# Function for fixing date format in data to be able to compare dates\n",
    "def convert_to_datetime(str_date):\n",
    "    #print(str_date)\n",
    "    date = str_date[0:5] + \"0\" + str_date[5:]\n",
    "    return datetime.datetime.strptime(date, \"%Y-%m-%d %H:%M:%S\")"
   ]
  },
  {
   "cell_type": "code",
   "execution_count": null,
   "metadata": {},
   "outputs": [],
   "source": [
    "# Get all data where 1278894 is the sender\n",
    "sender_1278894 = data_Fri[data_Fri['from'] == 1278894]\n",
    "\n",
    "# Get the counts for how many messages are sent by 1278894 each timestamp\n",
    "timestamp_counts = sender_1278894['Timestamp'].value_counts()\n",
    "timestamp_counts.sort_index(inplace=True)\n",
    "\n",
    "\n",
    "\n",
    "# Get the first and last timestamp where 1278894 send a message\n",
    "first_time = timestamp_counts.index[0]\n",
    "last_time = timestamp_counts.index[len(timestamp_counts)-1]\n",
    "\n",
    "# Get the range of all timestamps where 1278894 sends messages\n",
    "timestamp_range_1278894 = timestamps_fri[first_time:last_time]\n",
    "\n",
    "# Join with timestamps to get zeros where there is no communication\n",
    "timestamp_counts_merged = pd.merge(timestamp_counts, timestamp_range_1278894, how='outer', left_index=True, right_index=True)\n",
    "# Replace NaN with 0\n",
    "timestamp_counts_merged.fillna(0, inplace=True)\n",
    "# Sort based on timestamp\n",
    "#timestamp_counts_merged.sort_index(inplace=True)\n",
    "# Remove redundant column with zeros\n",
    "timestamp_counts_merged.drop('timestamps_fri', axis=1, inplace=True)\n"
   ]
  },
  {
   "cell_type": "code",
   "execution_count": null,
   "metadata": {},
   "outputs": [],
   "source": [
    "\n",
    "chart = stackedAreaChart(name='stackedAreaChart', x_is_date=True, date_format=\"%d %b %Y\", height=700, width=1500)\n",
    "\n",
    "# Datetimes on x-axis\n",
    "xdata = [convert_to_datetime(x) for x in list(timestamp_range_1278894.keys())]\n",
    "xdata = [time.mktime(s.timetuple()) * 1000 for s in xdata]\n",
    "\n",
    "ydata = timestamp_counts_merged['Timestamp']\n",
    "\n",
    "extra_serie = {\"tooltip\": {\"y_start\": \"There is \", \"y_end\": \" min\"}}\n",
    "chart.add_serie(name=\"Serie 1\", y=ydata, x=xdata, extra=extra_serie)\n",
    "\n",
    "chart.buildhtml()\n",
    "\n",
    "chart_html = chart.htmlcontent\n",
    "\n",
    "# Show the plot\n",
    "display(HTML(chart_html))"
   ]
  },
  {
   "cell_type": "markdown",
   "metadata": {},
   "source": [
    "## Biggest receivers of 1278894"
   ]
  },
  {
   "cell_type": "code",
   "execution_count": null,
   "metadata": {},
   "outputs": [],
   "source": [
    "to_counts = sender_1278894['to'].value_counts()\n",
    "#to_counts.sort_index(inplace=True)\n",
    "\n",
    "chart_type = 'discreteBarChart'\n",
    "chart = nvd3.discreteBarChart(name=\"to_counts\", height=700, width=1500)\n",
    "\n",
    "ydata = to_counts.to_list()\n",
    "xdata = list(to_counts.keys())\n",
    "\n",
    "chart.add_serie(y=ydata, x=xdata)\n",
    "chart.buildhtml()\n",
    "chart_html = chart.htmlcontent\n",
    "\n",
    "# Show the plot\n",
    "display(HTML(chart_html))"
   ]
  },
  {
   "cell_type": "code",
   "execution_count": null,
   "metadata": {},
   "outputs": [],
   "source": [
    "# Extract all separate data for all recipients\n",
    "sender_1278894 = data_Fri[data_Fri['from'] == 1278894]\n",
    "unique_recipients = sender_1278894.to.unique()\n",
    "print(len(unique_recipients))\n",
    "\n",
    "# Get all the timestamps for the x-axis \n",
    "# and set counter to zero for all to be \n",
    "# able to merge with individual recipients data later\n",
    "timestamps = pd.Series(0, sender_1278894.Timestamp.unique(), name='ts')\n",
    "\n",
    "separated_sender_lists = {}\n",
    "for recipient in unique_recipients:\n",
    "    # Take only the values for current recipient\n",
    "    separated_sender_recipient = sender_1278894[sender_1278894['to'] == recipient]\n",
    "    # Count all the messages for each timestamp\n",
    "    separated_sender_recipient_counts = separated_sender_recipient['Timestamp'].value_counts()\n",
    "    # Join with timestamps to get zeros where there is no communication\n",
    "    separated_sender_lists[recipient] = pd.merge(separated_sender_recipient_counts, timestamp_range_1278894, how='outer', left_index=True, right_index=True)\n",
    "    # Replace NaN with 0\n",
    "    separated_sender_lists[recipient].fillna(0, inplace=True)\n",
    "    # Sort based on timestamp\n",
    "    separated_sender_lists[recipient].sort_index(inplace=True)\n",
    "    # Remove redundant column with zeros\n",
    "    separated_sender_lists[recipient].drop('timestamps_fri', axis=1, inplace=True)"
   ]
  },
  {
   "cell_type": "code",
   "execution_count": null,
   "metadata": {},
   "outputs": [],
   "source": [
    "chart = stackedAreaChart(name='stackedAreaChart2', x_is_date=True, date_format=\"%d %b %Y\", height=3400, width=1500)\n",
    "\n",
    "# Datetimes on x-axis\n",
    "xdata = [convert_to_datetime(x) for x in list(timestamps_fri.keys())]\n",
    "xdata = [time.mktime(s.timetuple()) * 1000 for s in xdata]\n",
    "\n",
    "extra_serie = {\"tooltip\": {\"y_start\": \"There is \", \"y_end\": \" min\"}}\n",
    "for recipient in separated_sender_lists:\n",
    "    chart.add_serie(name=str(recipient), y=separated_sender_lists[recipient]['Timestamp'], x=xdata, extra=extra_serie)\n",
    "#chart.add_serie(name=\"Serie 2\", y=ydata2, x=xdata, extra=extra_serie)\n",
    "chart.buildhtml()\n",
    "\n",
    "chart_html = chart.htmlcontent\n",
    "\n",
    "# Show the plot\n",
    "display(HTML(chart_html))"
   ]
  },
  {
   "cell_type": "code",
   "execution_count": null,
   "metadata": {},
   "outputs": [],
   "source": [
    "#import plotly\n",
    "from plotly.offline import init_notebook_mode, iplot\n",
    "import plotly.graph_objs as go\n",
    "\n",
    "init_notebook_mode(connected=True)         # initiate notebook for offline plot\n",
    "\n",
    "\"\"\"trace0 = go.Scatter(\n",
    "  x=[1, 2, 3, 4],\n",
    "  y=[10, 15, 13, 17]\n",
    ")\n",
    "trace1 = go.Scatter(\n",
    "  x=[1, 2, 3, 4],\n",
    "  y=[16, 5, 11, 9]\n",
    ")\n",
    "data = go.Data([trace0, trace1])\"\"\"\n",
    "\n",
    "#plotly.offline.\n",
    "#iplot(data)               # use plotly.offline.iplot for offline plot\n",
    "\n",
    "####################################\n",
    "\n",
    "trace = go.Scatter( \n",
    "    x=[1, 2, 2, 1], \n",
    "    y=[3, 4, 3, 4], \n",
    "    mode='markers',\n",
    "    marker=dict(size=[100, 100, 100, 100])\n",
    ")\n",
    "\n",
    "# Edges\n",
    "x0 = [1, 2]\n",
    "y0 = [3, 3]\n",
    "x1 = [2, 1]\n",
    "y1 = [4, 4]\n",
    "\n",
    "fig = go.Figure(\n",
    "    data=[trace],\n",
    "    layout=go.Layout(\n",
    "        annotations = [\n",
    "            dict(ax=x0[i], ay=y0[i], axref='x', ayref='y',\n",
    "                x=x1[i], y=y1[i], xref='x', yref='y') for i in range(0, len(x0))\n",
    "        ]\n",
    "    )\n",
    ") \n",
    "iplot(fig)"
   ]
  },
  {
   "cell_type": "code",
   "execution_count": null,
   "metadata": {},
   "outputs": [],
   "source": [
    "G_sender_1278894 = nx.DiGraph()\n",
    "G_sender_1278894.add_node(1278894)\n",
    "weights = {}\n",
    "for index, row in sender_1278894.iterrows():\n",
    "    if row['to'] not in G_sender_1278894:\n",
    "        G_sender_1278894.add_edge(1278894, row['to'])\n",
    "        weights[row['to']] = 1\n",
    "    else:\n",
    "        weights[row['to']] += 1\n",
    "        \n",
    "#print(weights)"
   ]
  },
  {
   "cell_type": "code",
   "execution_count": null,
   "metadata": {},
   "outputs": [],
   "source": [
    "nx.draw(G_sender_1278894,\n",
    "        node_color = np.linspace(0,1,len(G_sender_1278894.nodes())),\n",
    "        width = 0.5\n",
    "        )\n",
    "plt.show()"
   ]
  },
  {
   "cell_type": "code",
   "execution_count": null,
   "metadata": {},
   "outputs": [],
   "source": []
  }
 ],
 "metadata": {
  "kernelspec": {
   "display_name": "Python 3",
   "language": "python",
   "name": "python3"
  },
  "language_info": {
   "codemirror_mode": {
    "name": "ipython",
    "version": 3
   },
   "file_extension": ".py",
   "mimetype": "text/x-python",
   "name": "python",
   "nbconvert_exporter": "python",
   "pygments_lexer": "ipython3",
   "version": "3.6.5"
  }
 },
 "nbformat": 4,
 "nbformat_minor": 2
}
