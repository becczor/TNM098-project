{
 "cells": [
  {
   "cell_type": "markdown",
   "metadata": {},
   "source": [
    "# Project in TNM098 VT 2018, VAST Challenge MC2 2015\n",
    "\n",
    "This project will explore data containing phone calls between people in an amusement park. The questions that will be answered are:\n",
    "\n",
    "1. Identify those IDs that stand out for their large volumes of communication. For each of these IDs\n",
    "  1. Characterize the communication patterns you see.\n",
    "  2. Based on these patterns, what do you hypothesize about these IDs?\n",
    "\n",
    "Please limit your response to no more than 4 images and 300 words.\n",
    "\n",
    "2. Describe up to 10 communications patterns in the data. Characterize who is communicating, with whom, when and where. If you have more than 10 patterns to report, please prioritize those patterns that are most likely to relate to the crime.\n",
    "\n",
    "Please limit your response to no more than 10 images and 1000 words.\n",
    "\n",
    "#### My approach:\n",
    "To start solving the first problem, I would filter out all communication from the IDs with large volumes. From that I would try to visualize the following:\n",
    "* With who are these persons are communicating with?\n",
    "* From what places?\n",
    "* Where is the recipient located?\n",
    "* What time of the day?\n",
    "* Do the recipients communicate with each other?\n",
    "* And more possible properties of the communication data that are relevant\n"
   ]
  },
  {
   "cell_type": "code",
   "execution_count": 1,
   "metadata": {},
   "outputs": [],
   "source": [
    "import matplotlib.pyplot as plt\n",
    "import numpy as np\n",
    "import pylab\n",
    "#import plotly.plotly as py\n",
    "import pandas as pd\n",
    "data_Fri = pd.read_csv(\"data/comm-data-Fri.csv\")"
   ]
  },
  {
   "cell_type": "code",
   "execution_count": 2,
   "metadata": {},
   "outputs": [
    {
     "data": {
      "text/html": [
       "<div>\n",
       "<style scoped>\n",
       "    .dataframe tbody tr th:only-of-type {\n",
       "        vertical-align: middle;\n",
       "    }\n",
       "\n",
       "    .dataframe tbody tr th {\n",
       "        vertical-align: top;\n",
       "    }\n",
       "\n",
       "    .dataframe thead th {\n",
       "        text-align: right;\n",
       "    }\n",
       "</style>\n",
       "<table border=\"1\" class=\"dataframe\">\n",
       "  <thead>\n",
       "    <tr style=\"text-align: right;\">\n",
       "      <th></th>\n",
       "      <th>Timestamp</th>\n",
       "      <th>from</th>\n",
       "      <th>to</th>\n",
       "      <th>location</th>\n",
       "    </tr>\n",
       "  </thead>\n",
       "  <tbody>\n",
       "    <tr>\n",
       "      <th>0</th>\n",
       "      <td>2014-6-06 08:03:19</td>\n",
       "      <td>439105</td>\n",
       "      <td>1053224</td>\n",
       "      <td>Kiddie Land</td>\n",
       "    </tr>\n",
       "    <tr>\n",
       "      <th>1</th>\n",
       "      <td>2014-6-06 08:03:19</td>\n",
       "      <td>439105</td>\n",
       "      <td>1696241</td>\n",
       "      <td>Kiddie Land</td>\n",
       "    </tr>\n",
       "    <tr>\n",
       "      <th>2</th>\n",
       "      <td>2014-6-06 08:03:19</td>\n",
       "      <td>439105</td>\n",
       "      <td>580064</td>\n",
       "      <td>Kiddie Land</td>\n",
       "    </tr>\n",
       "    <tr>\n",
       "      <th>3</th>\n",
       "      <td>2014-6-06 08:03:19</td>\n",
       "      <td>439105</td>\n",
       "      <td>1464748</td>\n",
       "      <td>Kiddie Land</td>\n",
       "    </tr>\n",
       "    <tr>\n",
       "      <th>4</th>\n",
       "      <td>2014-6-06 08:03:47</td>\n",
       "      <td>1836139</td>\n",
       "      <td>1593258</td>\n",
       "      <td>Entry Corridor</td>\n",
       "    </tr>\n",
       "  </tbody>\n",
       "</table>\n",
       "</div>"
      ],
      "text/plain": [
       "            Timestamp     from       to        location\n",
       "0  2014-6-06 08:03:19   439105  1053224     Kiddie Land\n",
       "1  2014-6-06 08:03:19   439105  1696241     Kiddie Land\n",
       "2  2014-6-06 08:03:19   439105   580064     Kiddie Land\n",
       "3  2014-6-06 08:03:19   439105  1464748     Kiddie Land\n",
       "4  2014-6-06 08:03:47  1836139  1593258  Entry Corridor"
      ]
     },
     "execution_count": 2,
     "metadata": {},
     "output_type": "execute_result"
    }
   ],
   "source": [
    "data_Fri.head()"
   ]
  },
  {
   "cell_type": "code",
   "execution_count": 3,
   "metadata": {},
   "outputs": [
    {
     "data": {
      "text/html": [
       "<div>\n",
       "<style scoped>\n",
       "    .dataframe tbody tr th:only-of-type {\n",
       "        vertical-align: middle;\n",
       "    }\n",
       "\n",
       "    .dataframe tbody tr th {\n",
       "        vertical-align: top;\n",
       "    }\n",
       "\n",
       "    .dataframe thead th {\n",
       "        text-align: right;\n",
       "    }\n",
       "</style>\n",
       "<table border=\"1\" class=\"dataframe\">\n",
       "  <thead>\n",
       "    <tr style=\"text-align: right;\">\n",
       "      <th></th>\n",
       "      <th>to</th>\n",
       "      <th>location</th>\n",
       "    </tr>\n",
       "  </thead>\n",
       "  <tbody>\n",
       "    <tr>\n",
       "      <th>0</th>\n",
       "      <td>1053224</td>\n",
       "      <td>Kiddie Land</td>\n",
       "    </tr>\n",
       "    <tr>\n",
       "      <th>1</th>\n",
       "      <td>1696241</td>\n",
       "      <td>Kiddie Land</td>\n",
       "    </tr>\n",
       "  </tbody>\n",
       "</table>\n",
       "</div>"
      ],
      "text/plain": [
       "        to     location\n",
       "0  1053224  Kiddie Land\n",
       "1  1696241  Kiddie Land"
      ]
     },
     "execution_count": 3,
     "metadata": {},
     "output_type": "execute_result"
    }
   ],
   "source": [
    "data_Fri.loc[0:1, ['to', 'location']]"
   ]
  },
  {
   "cell_type": "code",
   "execution_count": null,
   "metadata": {},
   "outputs": [],
   "source": []
  }
 ],
 "metadata": {
  "kernelspec": {
   "display_name": "Python 3",
   "language": "python",
   "name": "python3"
  },
  "language_info": {
   "codemirror_mode": {
    "name": "ipython",
    "version": 3
   },
   "file_extension": ".py",
   "mimetype": "text/x-python",
   "name": "python",
   "nbconvert_exporter": "python",
   "pygments_lexer": "ipython3",
   "version": "3.6.5"
  }
 },
 "nbformat": 4,
 "nbformat_minor": 2
}
