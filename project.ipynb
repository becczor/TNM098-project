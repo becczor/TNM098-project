{
 "cells": [
  {
   "cell_type": "markdown",
   "metadata": {},
   "source": [
    "# Project in TNM098 VT 2018, VAST Challenge MC2 2015\n",
    "\n",
    "This project will explore data containing phone calls between people in an amusement park. The questions that will be answered are:\n",
    "\n",
    "1. Identify those IDs that stand out for their large volumes of communication. For each of these IDs\n",
    "  1. Characterize the communication patterns you see.\n",
    "  2. Based on these patterns, what do you hypothesize about these IDs?\n",
    "\n",
    "Please limit your response to no more than 4 images and 300 words.\n",
    "\n",
    "2. Describe up to 10 communications patterns in the data. Characterize who is communicating, with whom, when and where. If you have more than 10 patterns to report, please prioritize those patterns that are most likely to relate to the crime.\n",
    "\n",
    "Please limit your response to no more than 10 images and 1000 words.\n",
    "\n",
    "#### My approach:\n",
    "To start solving the first problem, I would filter out all communication from the IDs with large volumes. From that I would try to visualize the following:\n",
    "* With who are these persons are communicating with?\n",
    "* From what places?\n",
    "* (Where is the recipient located?)\n",
    "* What time of the day?\n",
    "* Do the recipients communicate with each other?\n",
    "* And more possible properties of the communication data that are relevant\n"
   ]
  },
  {
   "cell_type": "markdown",
   "metadata": {},
   "source": [
    "First, start with imports."
   ]
  },
  {
   "cell_type": "code",
   "execution_count": 4,
   "metadata": {},
   "outputs": [
    {
     "data": {
      "application/vnd.jupyter.widget-view+json": {
       "model_id": "6b33ff72696c4961acc5f906f828234a",
       "version_major": 2,
       "version_minor": 0
      },
      "text/plain": [
       "Dropdown(description='Number:', index=1, options=('1', '2', '3'), value='2')"
      ]
     },
     "metadata": {},
     "output_type": "display_data"
    }
   ],
   "source": [
    "import numpy as np\n",
    "import pandas as pd\n",
    "import nvd3\n",
    "import ipywidgets as widgets\n",
    "from IPython.display import display, HTML\n",
    "import datetime\n",
    "import time\n",
    "import networkx as nx\n",
    "from nvd3 import stackedAreaChart\n",
    "import matplotlib as mpl\n",
    "import matplotlib.pyplot as plt\n",
    "\n",
    "mpl.rcParams['figure.figsize'] = (12,12)\n",
    "\n",
    "data_Fri = pd.read_csv(\"data/comm-data-Fri.csv\")\n",
    "data_Sat = pd.read_csv(\"data/comm-data-Sat.csv\")\n",
    "data_Sun = pd.read_csv(\"data/comm-data-Sun.csv\")\n",
    "\n",
    "data_Concat = pd.concat([data_Fri, data_Sat, data_Sun])\n",
    "\n",
    "# Get all the timestamps for the x-axis and set counter to zero for all to be \n",
    "# able to merge with individual recipients data later\n",
    "timestamps_fri = pd.Series(0, data_Fri.Timestamp.unique(), name='timestamps_fri')\n",
    "\n",
    "widgets.Dropdown(\n",
    "    options=['1', '2', '3'],\n",
    "    value='2',\n",
    "    description='Number:',\n",
    "    disabled=False,\n",
    ")\n",
    "#display(w)"
   ]
  },
  {
   "cell_type": "markdown",
   "metadata": {},
   "source": [
    "Find out which senders stand out for their large communication volumes."
   ]
  },
  {
   "cell_type": "code",
   "execution_count": 11,
   "metadata": {},
   "outputs": [],
   "source": [
    "#Count occurrences for each sender\n",
    "from_data = data_Concat['from']\n",
    "to_data = data_Concat['to']\n",
    "send_counts = from_data.value_counts()\n",
    "receive_counts = to_data.value_counts()\n",
    "\n",
    "too_low_senders = send_counts[send_counts <= 3000].index\n",
    "highest_senders = send_counts.drop(too_low_senders)\n",
    "\n",
    "too_low_receivers = receive_counts[receive_counts <= 3000].index\n",
    "# Remove 'external' from receivers\n",
    "too_low_receivers = too_low_receivers.append(pd.Index(['external']))\n",
    "highest_receivers = receive_counts.drop(too_low_receivers)"
   ]
  },
  {
   "cell_type": "markdown",
   "metadata": {},
   "source": [
    "Use nvd3 to construct the plot, and export it to view as html."
   ]
  },
  {
   "cell_type": "code",
   "execution_count": 26,
   "metadata": {},
   "outputs": [
    {
     "data": {
      "text/html": [
       "<link media=\"all\" href=\"https://cdnjs.cloudflare.com/ajax/libs/nvd3/1.7.0/nv.d3.min.css\" type=\"text/css\"\n",
       "                        rel=\"stylesheet\"/>"
      ],
      "text/plain": [
       "<IPython.core.display.HTML object>"
      ]
     },
     "metadata": {},
     "output_type": "display_data"
    },
    {
     "data": {
      "application/javascript": [
       "$.getScript(\"https://cdnjs.cloudflare.com/ajax/libs/nvd3/1.7.0/nv.d3.min.js\")"
      ],
      "text/plain": [
       "<IPython.core.display.Javascript object>"
      ]
     },
     "metadata": {},
     "output_type": "display_data"
    },
    {
     "data": {
      "application/javascript": [
       "$.getScript(\"https://cdnjs.cloudflare.com/ajax/libs/d3/3.5.5/d3.min.js\", function() {\n",
       "                              $.getScript(\"https://cdnjs.cloudflare.com/ajax/libs/nvd3/1.7.0/nv.d3.min.js\", function() {})});"
      ],
      "text/plain": [
       "<IPython.core.display.Javascript object>"
      ]
     },
     "metadata": {},
     "output_type": "display_data"
    },
    {
     "data": {
      "text/html": [
       "<script src=\"https://cdnjs.cloudflare.com/ajax/libs/d3/3.5.5/d3.min.js\"></script>"
      ],
      "text/plain": [
       "<IPython.core.display.HTML object>"
      ]
     },
     "metadata": {},
     "output_type": "display_data"
    },
    {
     "data": {
      "text/html": [
       "<script src=\"https://cdnjs.cloudflare.com/ajax/libs/nvd3/1.7.0/nv.d3.min.js\"></script>"
      ],
      "text/plain": [
       "<IPython.core.display.HTML object>"
      ]
     },
     "metadata": {},
     "output_type": "display_data"
    },
    {
     "name": "stdout",
     "output_type": "stream",
     "text": [
      "37\n"
     ]
    }
   ],
   "source": [
    "nvd3.ipynb.initialize_javascript(use_remote=True)\n",
    "\n",
    "chart_type = 'discreteBarChart'\n",
    "chart = nvd3.discreteBarChart(name=\"highest_senders\", height=700, width=1500)\n",
    "\n",
    "ydata = highest_receivers.to_list()\n",
    "xdata = list(highest_receivers.keys())\n",
    "\n",
    "chart.add_serie(y=ydata, x=xdata)\n",
    "chart.buildhtml()\n",
    "chart_html = chart.htmlcontent\n",
    "\n",
    "# Show the plot\n",
    "display(HTML(chart_html))"
   ]
  },
  {
   "cell_type": "markdown",
   "metadata": {},
   "source": [
    "## Graph of communication network\n",
    "Look att the network of communication between the ten biggest senders and their five biggest receivers respectively.\n",
    "Read the graph as following:\n",
    "\n",
    "**Size of node:** total amount of communication\n",
    "\n",
    "**Size of edge:** amount of communication between nodes"
   ]
  },
  {
   "cell_type": "code",
   "execution_count": null,
   "metadata": {},
   "outputs": [],
   "source": [
    "ten_highest_senders = list(highest_receivers.keys())[0:10]\n",
    "receivers_of_ten_highest_senders = []\n",
    "for sender in ten_highest_senders:\n",
    "    #print(type(sender))\n",
    "    sender_data = data_Concat[data_Concat['from'] == int(sender)]\n",
    "    to_counts = sender_data['to'].value_counts()\n",
    "    receivers_of_ten_highest_senders += list(to_counts.keys())[0:5]\n",
    "unique_receivers_of_ten_highest_senders = set(receivers_of_ten_highest_senders)\n",
    "receivers = list(unique_receivers_of_ten_highest_senders)\n",
    "receivers.sort()\n",
    "print(len(receivers))\n",
    "\n",
    "\n",
    "# Data structure for keeping track of communication:\n",
    "# Dictionary with senders of dictionaries with its receivers \n",
    "# com = {sender1: {receiver1: x, receiver2: y}, sender2: {receiver1: z, receiver3: q}}\n",
    "\n",
    "communication_network = {}\n",
    "for index, row in data_Concat.iterrows():\n",
    "    \n",
    "\n",
    "Graph_network = nx.DiGraph()\n",
    "weights = {}\n",
    "for index, row in sender_1278894.iterrows():\n",
    "    if row['to'] not in G_sender_1278894:\n",
    "        G_sender_1278894.add_edge(1278894, row['to'])\n",
    "        weights[row['to']] = 1\n",
    "    else:\n",
    "        weights[row['to']] += 1\n",
    "        \n",
    "#print(weights)\n",
    "\n",
    "nx.draw(G_sender_1278894,\n",
    "        node_color = np.linspace(0,1,len(G_sender_1278894.nodes())),\n",
    "        width = 0.5\n",
    "        )\n",
    "plt.show()"
   ]
  },
  {
   "cell_type": "markdown",
   "metadata": {},
   "source": [
    "Since 1278894 and 839736 is clearly the biggest senders and receiver, a closer look will be made on its communication patterns."
   ]
  },
  {
   "cell_type": "code",
   "execution_count": null,
   "metadata": {},
   "outputs": [],
   "source": [
    "# Function for fixing date format in data to be able to compare dates\n",
    "def convert_to_datetime(str_date):\n",
    "    #print(str_date)\n",
    "    date = str_date[0:5] + \"0\" + str_date[5:]\n",
    "    return datetime.datetime.strptime(date, \"%Y-%m-%d %H:%M:%S\")"
   ]
  },
  {
   "cell_type": "code",
   "execution_count": 29,
   "metadata": {},
   "outputs": [],
   "source": [
    "# Get all data where 1278894 is the sender\n",
    "sender_1278894 = data_Concat[data_Concat['from'] == 1278894]\n",
    "\n",
    "# Get the counts for how many messages are sent by 1278894 each timestamp\n",
    "timestamp_counts = sender_1278894['Timestamp'].value_counts()\n",
    "timestamp_counts.sort_index(inplace=True)\n"
   ]
  },
  {
   "cell_type": "code",
   "execution_count": null,
   "metadata": {},
   "outputs": [],
   "source": [
    "\n",
    "# Get the first and last timestamp where 1278894 send a message\n",
    "first_time = timestamp_counts.index[0]\n",
    "last_time = timestamp_counts.index[len(timestamp_counts)-1]\n",
    "\n",
    "# Get the range of all timestamps where 1278894 sends messages\n",
    "timestamp_range_1278894 = timestamps_fri[first_time:last_time]\n",
    "\n",
    "# Join with timestamps to get zeros where there is no communication\n",
    "timestamp_counts_merged = pd.merge(timestamp_counts, timestamp_range_1278894, how='outer', left_index=True, right_index=True)\n",
    "# Replace NaN with 0\n",
    "timestamp_counts_merged.fillna(0, inplace=True)\n",
    "# Sort based on timestamp\n",
    "#timestamp_counts_merged.sort_index(inplace=True)\n",
    "# Remove redundant column with zeros\n",
    "timestamp_counts_merged.drop('timestamps_fri', axis=1, inplace=True)\n"
   ]
  },
  {
   "cell_type": "markdown",
   "metadata": {},
   "source": [
    "### Show when 1278894 is communicating\n",
    "Plotting it against al timestamps available will give small lines that arare hard to read. By grouping timestamps på bins it will be easier to see when the communication is happening. Communication seems to be happening between 08:00 and 23:59 each day. Let's create 2 bins for each hour of the day."
   ]
  },
  {
   "cell_type": "code",
   "execution_count": null,
   "metadata": {},
   "outputs": [],
   "source": [
    "timebins = pd.Series(0, index=np.linspace(8,23,31), name='timebins')\n",
    "\n",
    "def get_halfhour_bin(timestamp):\n",
    "    if int(timestamp[13:15]) < 30:\n",
    "        return int(timestamp[10:12])\n",
    "    else:\n",
    "        return float(timestamp[10:12]) + 0.5\n",
    "\n",
    "# Grouping messages to 30-minutes bins\n",
    "for timestamp in timestamp_counts.index:\n",
    "    timebins[get_halfhour_bin(timestamp)] += timestamp_counts[timestamp]"
   ]
  },
  {
   "cell_type": "code",
   "execution_count": null,
   "metadata": {},
   "outputs": [],
   "source": [
    "### FOR ALL TIMESTAMPS\n",
    "# Datetimes on x-axis\n",
    "\"\"\"\n",
    "chart = stackedAreaChart(name='stackedAreaChart', x_is_date=True, date_format=\"%d %b %Y\", height=700, width=1500)\n",
    "xdata = [convert_to_datetime(x) for x in list(timestamp_range_1278894.keys())]\n",
    "xdata = [time.mktime(s.timetuple()) * 1000 for s in xdata]\n",
    "ydata = timestamp_counts_merged['Timestamp']\n",
    "\"\"\"\n",
    "\n",
    "### FOR TIMEBINS\n",
    "from nvd3 import multiBarChart\n",
    "chart = multiBarChart(name='timebins_communication', height=700, width=1500)\n",
    "# TODO: fix x-axis to times\n",
    "xdata = [float(x) for x in timebins.index]\n",
    "ydata = timebins.to_list()\n",
    "\n",
    "chart.add_serie(name=\"Friday\", y=ydata, x=xdata)\n",
    "#chart.add_serie(name=\"Serie 2\", y=ydata2, x=xdata)\n",
    "\n",
    "chart.buildhtml()\n",
    "\n",
    "chart_html = chart.htmlcontent\n",
    "\n",
    "# Show the plot\n",
    "display(HTML(chart_html))"
   ]
  },
  {
   "cell_type": "markdown",
   "metadata": {},
   "source": [
    "## Biggest receivers of 1278894"
   ]
  },
  {
   "cell_type": "code",
   "execution_count": null,
   "metadata": {},
   "outputs": [],
   "source": [
    "to_counts = sender_1278894['to'].value_counts()\n",
    "#to_counts.sort_index(inplace=True)\n",
    "\n",
    "chart_type = 'discreteBarChart'\n",
    "chart = nvd3.discreteBarChart(name=\"to_counts\", height=700, width=1500)\n",
    "\n",
    "ydata = to_counts.to_list()\n",
    "xdata = list(to_counts.keys())\n",
    "\n",
    "chart.add_serie(y=ydata, x=xdata)\n",
    "chart.buildhtml()\n",
    "chart_html = chart.htmlcontent\n",
    "\n",
    "# Show the plot\n",
    "display(HTML(chart_html))"
   ]
  },
  {
   "cell_type": "code",
   "execution_count": null,
   "metadata": {},
   "outputs": [],
   "source": [
    "# Extract all separate data for all recipients\n",
    "sender_1278894 = data_Fri[data_Fri['from'] == 1278894]\n",
    "unique_recipients = sender_1278894.to.unique()\n",
    "print(len(unique_recipients))\n",
    "\n",
    "# Get all the timestamps for the x-axis \n",
    "# and set counter to zero for all to be \n",
    "# able to merge with individual recipients data later\n",
    "timestamps = pd.Series(0, sender_1278894.Timestamp.unique(), name='ts')\n",
    "\n",
    "separated_sender_lists = {}\n",
    "for recipient in unique_recipients:\n",
    "    # Take only the values for current recipient\n",
    "    separated_sender_recipient = sender_1278894[sender_1278894['to'] == recipient]\n",
    "    # Count all the messages for each timestamp\n",
    "    separated_sender_recipient_counts = separated_sender_recipient['Timestamp'].value_counts()\n",
    "    # Join with timestamps to get zeros where there is no communication\n",
    "    separated_sender_lists[recipient] = pd.merge(separated_sender_recipient_counts, timestamp_range_1278894, how='outer', left_index=True, right_index=True)\n",
    "    # Replace NaN with 0\n",
    "    separated_sender_lists[recipient].fillna(0, inplace=True)\n",
    "    # Sort based on timestamp\n",
    "    separated_sender_lists[recipient].sort_index(inplace=True)\n",
    "    # Remove redundant column with zeros\n",
    "    separated_sender_lists[recipient].drop('timestamps_fri', axis=1, inplace=True)"
   ]
  },
  {
   "cell_type": "code",
   "execution_count": null,
   "metadata": {},
   "outputs": [],
   "source": [
    "chart = stackedAreaChart(name='stackedAreaChart2', x_is_date=True, date_format=\"%d %b %Y\", height=3400, width=1500)\n",
    "\n",
    "# Datetimes on x-axis\n",
    "xdata = [convert_to_datetime(x) for x in list(timestamps_fri.keys())]\n",
    "xdata = [time.mktime(s.timetuple()) * 1000 for s in xdata]\n",
    "\n",
    "extra_serie = {\"tooltip\": {\"y_start\": \"There is \", \"y_end\": \" min\"}}\n",
    "for recipient in separated_sender_lists:\n",
    "    chart.add_serie(name=str(recipient), y=separated_sender_lists[recipient]['Timestamp'], x=xdata, extra=extra_serie)\n",
    "#chart.add_serie(name=\"Serie 2\", y=ydata2, x=xdata, extra=extra_serie)\n",
    "chart.buildhtml()\n",
    "\n",
    "chart_html = chart.htmlcontent\n",
    "\n",
    "# Show the plot\n",
    "display(HTML(chart_html))"
   ]
  },
  {
   "cell_type": "markdown",
   "metadata": {},
   "source": [
    "# Klotter"
   ]
  },
  {
   "cell_type": "code",
   "execution_count": null,
   "metadata": {},
   "outputs": [],
   "source": [
    "#import plotly\n",
    "from plotly.offline import init_notebook_mode, iplot\n",
    "import plotly.graph_objs as go\n",
    "\n",
    "init_notebook_mode(connected=True)         # initiate notebook for offline plot\n",
    "\n",
    "\"\"\"trace0 = go.Scatter(\n",
    "  x=[1, 2, 3, 4],\n",
    "  y=[10, 15, 13, 17]\n",
    ")\n",
    "trace1 = go.Scatter(\n",
    "  x=[1, 2, 3, 4],\n",
    "  y=[16, 5, 11, 9]\n",
    ")\n",
    "data = go.Data([trace0, trace1])\"\"\"\n",
    "\n",
    "#plotly.offline.\n",
    "#iplot(data)               # use plotly.offline.iplot for offline plot\n",
    "\n",
    "####################################\n",
    "\n",
    "trace = go.Scatter( \n",
    "    x=[1, 2, 2, 1], \n",
    "    y=[3, 4, 3, 4], \n",
    "    mode='markers',\n",
    "    marker=dict(size=[100, 100, 100, 100])\n",
    ")\n",
    "\n",
    "# Edges\n",
    "x0 = [1, 2]\n",
    "y0 = [3, 3]\n",
    "x1 = [2, 1]\n",
    "y1 = [4, 4]\n",
    "\n",
    "fig = go.Figure(\n",
    "    data=[trace],\n",
    "    layout=go.Layout(\n",
    "        annotations = [\n",
    "            dict(ax=x0[i], ay=y0[i], axref='x', ayref='y',\n",
    "                x=x1[i], y=y1[i], xref='x', yref='y') for i in range(0, len(x0))\n",
    "        ]\n",
    "    )\n",
    ") \n",
    "iplot(fig)"
   ]
  },
  {
   "cell_type": "code",
   "execution_count": 30,
   "metadata": {},
   "outputs": [
    {
     "ename": "KeyboardInterrupt",
     "evalue": "",
     "output_type": "error",
     "traceback": [
      "\u001b[1;31m---------------------------------------------------------------------------\u001b[0m",
      "\u001b[1;31mKeyboardInterrupt\u001b[0m                         Traceback (most recent call last)",
      "\u001b[1;32m<ipython-input-30-6ea50ec32513>\u001b[0m in \u001b[0;36m<module>\u001b[1;34m\u001b[0m\n\u001b[0;32m      2\u001b[0m \u001b[0mG_sender_1278894\u001b[0m\u001b[1;33m.\u001b[0m\u001b[0madd_node\u001b[0m\u001b[1;33m(\u001b[0m\u001b[1;36m1278894\u001b[0m\u001b[1;33m)\u001b[0m\u001b[1;33m\u001b[0m\u001b[0m\n\u001b[0;32m      3\u001b[0m \u001b[0mweights\u001b[0m \u001b[1;33m=\u001b[0m \u001b[1;33m{\u001b[0m\u001b[1;33m}\u001b[0m\u001b[1;33m\u001b[0m\u001b[0m\n\u001b[1;32m----> 4\u001b[1;33m \u001b[1;32mfor\u001b[0m \u001b[0mindex\u001b[0m\u001b[1;33m,\u001b[0m \u001b[0mrow\u001b[0m \u001b[1;32min\u001b[0m \u001b[0msender_1278894\u001b[0m\u001b[1;33m.\u001b[0m\u001b[0miterrows\u001b[0m\u001b[1;33m(\u001b[0m\u001b[1;33m)\u001b[0m\u001b[1;33m:\u001b[0m\u001b[1;33m\u001b[0m\u001b[0m\n\u001b[0m\u001b[0;32m      5\u001b[0m     \u001b[1;32mif\u001b[0m \u001b[0mrow\u001b[0m\u001b[1;33m[\u001b[0m\u001b[1;34m'to'\u001b[0m\u001b[1;33m]\u001b[0m \u001b[1;32mnot\u001b[0m \u001b[1;32min\u001b[0m \u001b[0mG_sender_1278894\u001b[0m\u001b[1;33m:\u001b[0m\u001b[1;33m\u001b[0m\u001b[0m\n\u001b[0;32m      6\u001b[0m         \u001b[0mG_sender_1278894\u001b[0m\u001b[1;33m.\u001b[0m\u001b[0madd_edge\u001b[0m\u001b[1;33m(\u001b[0m\u001b[1;36m1278894\u001b[0m\u001b[1;33m,\u001b[0m \u001b[0mrow\u001b[0m\u001b[1;33m[\u001b[0m\u001b[1;34m'to'\u001b[0m\u001b[1;33m]\u001b[0m\u001b[1;33m)\u001b[0m\u001b[1;33m\u001b[0m\u001b[0m\n",
      "\u001b[1;32mc:\\users\\rebecca\\documents\\tnm098-project\\env\\lib\\site-packages\\pandas\\core\\frame.py\u001b[0m in \u001b[0;36miterrows\u001b[1;34m(self)\u001b[0m\n\u001b[0;32m    844\u001b[0m         \u001b[0mklass\u001b[0m \u001b[1;33m=\u001b[0m \u001b[0mself\u001b[0m\u001b[1;33m.\u001b[0m\u001b[0m_constructor_sliced\u001b[0m\u001b[1;33m\u001b[0m\u001b[0m\n\u001b[0;32m    845\u001b[0m         \u001b[1;32mfor\u001b[0m \u001b[0mk\u001b[0m\u001b[1;33m,\u001b[0m \u001b[0mv\u001b[0m \u001b[1;32min\u001b[0m \u001b[0mzip\u001b[0m\u001b[1;33m(\u001b[0m\u001b[0mself\u001b[0m\u001b[1;33m.\u001b[0m\u001b[0mindex\u001b[0m\u001b[1;33m,\u001b[0m \u001b[0mself\u001b[0m\u001b[1;33m.\u001b[0m\u001b[0mvalues\u001b[0m\u001b[1;33m)\u001b[0m\u001b[1;33m:\u001b[0m\u001b[1;33m\u001b[0m\u001b[0m\n\u001b[1;32m--> 846\u001b[1;33m             \u001b[0ms\u001b[0m \u001b[1;33m=\u001b[0m \u001b[0mklass\u001b[0m\u001b[1;33m(\u001b[0m\u001b[0mv\u001b[0m\u001b[1;33m,\u001b[0m \u001b[0mindex\u001b[0m\u001b[1;33m=\u001b[0m\u001b[0mcolumns\u001b[0m\u001b[1;33m,\u001b[0m \u001b[0mname\u001b[0m\u001b[1;33m=\u001b[0m\u001b[0mk\u001b[0m\u001b[1;33m)\u001b[0m\u001b[1;33m\u001b[0m\u001b[0m\n\u001b[0m\u001b[0;32m    847\u001b[0m             \u001b[1;32myield\u001b[0m \u001b[0mk\u001b[0m\u001b[1;33m,\u001b[0m \u001b[0ms\u001b[0m\u001b[1;33m\u001b[0m\u001b[0m\n\u001b[0;32m    848\u001b[0m \u001b[1;33m\u001b[0m\u001b[0m\n",
      "\u001b[1;32mc:\\users\\rebecca\\documents\\tnm098-project\\env\\lib\\site-packages\\pandas\\core\\series.py\u001b[0m in \u001b[0;36m__init__\u001b[1;34m(self, data, index, dtype, name, copy, fastpath)\u001b[0m\n\u001b[0;32m    262\u001b[0m                                       raise_cast_failure=True)\n\u001b[0;32m    263\u001b[0m \u001b[1;33m\u001b[0m\u001b[0m\n\u001b[1;32m--> 264\u001b[1;33m                 \u001b[0mdata\u001b[0m \u001b[1;33m=\u001b[0m \u001b[0mSingleBlockManager\u001b[0m\u001b[1;33m(\u001b[0m\u001b[0mdata\u001b[0m\u001b[1;33m,\u001b[0m \u001b[0mindex\u001b[0m\u001b[1;33m,\u001b[0m \u001b[0mfastpath\u001b[0m\u001b[1;33m=\u001b[0m\u001b[1;32mTrue\u001b[0m\u001b[1;33m)\u001b[0m\u001b[1;33m\u001b[0m\u001b[0m\n\u001b[0m\u001b[0;32m    265\u001b[0m \u001b[1;33m\u001b[0m\u001b[0m\n\u001b[0;32m    266\u001b[0m         \u001b[0mgeneric\u001b[0m\u001b[1;33m.\u001b[0m\u001b[0mNDFrame\u001b[0m\u001b[1;33m.\u001b[0m\u001b[0m__init__\u001b[0m\u001b[1;33m(\u001b[0m\u001b[0mself\u001b[0m\u001b[1;33m,\u001b[0m \u001b[0mdata\u001b[0m\u001b[1;33m,\u001b[0m \u001b[0mfastpath\u001b[0m\u001b[1;33m=\u001b[0m\u001b[1;32mTrue\u001b[0m\u001b[1;33m)\u001b[0m\u001b[1;33m\u001b[0m\u001b[0m\n",
      "\u001b[1;32mc:\\users\\rebecca\\documents\\tnm098-project\\env\\lib\\site-packages\\pandas\\core\\internals\\managers.py\u001b[0m in \u001b[0;36m__init__\u001b[1;34m(self, block, axis, do_integrity_check, fastpath)\u001b[0m\n\u001b[0;32m   1479\u001b[0m \u001b[1;33m\u001b[0m\u001b[0m\n\u001b[0;32m   1480\u001b[0m         \u001b[1;32mif\u001b[0m \u001b[1;32mnot\u001b[0m \u001b[0misinstance\u001b[0m\u001b[1;33m(\u001b[0m\u001b[0mblock\u001b[0m\u001b[1;33m,\u001b[0m \u001b[0mBlock\u001b[0m\u001b[1;33m)\u001b[0m\u001b[1;33m:\u001b[0m\u001b[1;33m\u001b[0m\u001b[0m\n\u001b[1;32m-> 1481\u001b[1;33m             \u001b[0mblock\u001b[0m \u001b[1;33m=\u001b[0m \u001b[0mmake_block\u001b[0m\u001b[1;33m(\u001b[0m\u001b[0mblock\u001b[0m\u001b[1;33m,\u001b[0m \u001b[0mplacement\u001b[0m\u001b[1;33m=\u001b[0m\u001b[0mslice\u001b[0m\u001b[1;33m(\u001b[0m\u001b[1;36m0\u001b[0m\u001b[1;33m,\u001b[0m \u001b[0mlen\u001b[0m\u001b[1;33m(\u001b[0m\u001b[0maxis\u001b[0m\u001b[1;33m)\u001b[0m\u001b[1;33m)\u001b[0m\u001b[1;33m,\u001b[0m \u001b[0mndim\u001b[0m\u001b[1;33m=\u001b[0m\u001b[1;36m1\u001b[0m\u001b[1;33m)\u001b[0m\u001b[1;33m\u001b[0m\u001b[0m\n\u001b[0m\u001b[0;32m   1482\u001b[0m \u001b[1;33m\u001b[0m\u001b[0m\n\u001b[0;32m   1483\u001b[0m         \u001b[0mself\u001b[0m\u001b[1;33m.\u001b[0m\u001b[0mblocks\u001b[0m \u001b[1;33m=\u001b[0m \u001b[1;33m[\u001b[0m\u001b[0mblock\u001b[0m\u001b[1;33m]\u001b[0m\u001b[1;33m\u001b[0m\u001b[0m\n",
      "\u001b[1;32mc:\\users\\rebecca\\documents\\tnm098-project\\env\\lib\\site-packages\\pandas\\core\\internals\\blocks.py\u001b[0m in \u001b[0;36mmake_block\u001b[1;34m(values, placement, klass, ndim, dtype, fastpath)\u001b[0m\n\u001b[0;32m   3086\u001b[0m     \u001b[1;32mif\u001b[0m \u001b[0mklass\u001b[0m \u001b[1;32mis\u001b[0m \u001b[1;32mNone\u001b[0m\u001b[1;33m:\u001b[0m\u001b[1;33m\u001b[0m\u001b[0m\n\u001b[0;32m   3087\u001b[0m         \u001b[0mdtype\u001b[0m \u001b[1;33m=\u001b[0m \u001b[0mdtype\u001b[0m \u001b[1;32mor\u001b[0m \u001b[0mvalues\u001b[0m\u001b[1;33m.\u001b[0m\u001b[0mdtype\u001b[0m\u001b[1;33m\u001b[0m\u001b[0m\n\u001b[1;32m-> 3088\u001b[1;33m         \u001b[0mklass\u001b[0m \u001b[1;33m=\u001b[0m \u001b[0mget_block_type\u001b[0m\u001b[1;33m(\u001b[0m\u001b[0mvalues\u001b[0m\u001b[1;33m,\u001b[0m \u001b[0mdtype\u001b[0m\u001b[1;33m)\u001b[0m\u001b[1;33m\u001b[0m\u001b[0m\n\u001b[0m\u001b[0;32m   3089\u001b[0m \u001b[1;33m\u001b[0m\u001b[0m\n\u001b[0;32m   3090\u001b[0m     \u001b[1;32melif\u001b[0m \u001b[0mklass\u001b[0m \u001b[1;32mis\u001b[0m \u001b[0mDatetimeTZBlock\u001b[0m \u001b[1;32mand\u001b[0m \u001b[1;32mnot\u001b[0m \u001b[0mis_datetime64tz_dtype\u001b[0m\u001b[1;33m(\u001b[0m\u001b[0mvalues\u001b[0m\u001b[1;33m)\u001b[0m\u001b[1;33m:\u001b[0m\u001b[1;33m\u001b[0m\u001b[0m\n",
      "\u001b[1;32mc:\\users\\rebecca\\documents\\tnm098-project\\env\\lib\\site-packages\\pandas\\core\\internals\\blocks.py\u001b[0m in \u001b[0;36mget_block_type\u001b[1;34m(values, dtype)\u001b[0m\n\u001b[0;32m   3058\u001b[0m     \u001b[1;32melif\u001b[0m \u001b[0mis_datetime64tz_dtype\u001b[0m\u001b[1;33m(\u001b[0m\u001b[0mvalues\u001b[0m\u001b[1;33m)\u001b[0m\u001b[1;33m:\u001b[0m\u001b[1;33m\u001b[0m\u001b[0m\n\u001b[0;32m   3059\u001b[0m         \u001b[0mcls\u001b[0m \u001b[1;33m=\u001b[0m \u001b[0mDatetimeTZBlock\u001b[0m\u001b[1;33m\u001b[0m\u001b[0m\n\u001b[1;32m-> 3060\u001b[1;33m     \u001b[1;32melif\u001b[0m \u001b[0mis_interval_dtype\u001b[0m\u001b[1;33m(\u001b[0m\u001b[0mdtype\u001b[0m\u001b[1;33m)\u001b[0m \u001b[1;32mor\u001b[0m \u001b[0mis_period_dtype\u001b[0m\u001b[1;33m(\u001b[0m\u001b[0mdtype\u001b[0m\u001b[1;33m)\u001b[0m\u001b[1;33m:\u001b[0m\u001b[1;33m\u001b[0m\u001b[0m\n\u001b[0m\u001b[0;32m   3061\u001b[0m         \u001b[0mcls\u001b[0m \u001b[1;33m=\u001b[0m \u001b[0mObjectValuesExtensionBlock\u001b[0m\u001b[1;33m\u001b[0m\u001b[0m\n\u001b[0;32m   3062\u001b[0m     \u001b[1;32melif\u001b[0m \u001b[0mis_extension_array_dtype\u001b[0m\u001b[1;33m(\u001b[0m\u001b[0mvalues\u001b[0m\u001b[1;33m)\u001b[0m\u001b[1;33m:\u001b[0m\u001b[1;33m\u001b[0m\u001b[0m\n",
      "\u001b[1;32mc:\\users\\rebecca\\documents\\tnm098-project\\env\\lib\\site-packages\\pandas\\core\\dtypes\\common.py\u001b[0m in \u001b[0;36mis_interval_dtype\u001b[1;34m(arr_or_dtype)\u001b[0m\n\u001b[0;32m    567\u001b[0m     \u001b[1;32mif\u001b[0m \u001b[0marr_or_dtype\u001b[0m \u001b[1;32mis\u001b[0m \u001b[1;32mNone\u001b[0m\u001b[1;33m:\u001b[0m\u001b[1;33m\u001b[0m\u001b[0m\n\u001b[0;32m    568\u001b[0m         \u001b[1;32mreturn\u001b[0m \u001b[1;32mFalse\u001b[0m\u001b[1;33m\u001b[0m\u001b[0m\n\u001b[1;32m--> 569\u001b[1;33m     \u001b[1;32mreturn\u001b[0m \u001b[0mIntervalDtype\u001b[0m\u001b[1;33m.\u001b[0m\u001b[0mis_dtype\u001b[0m\u001b[1;33m(\u001b[0m\u001b[0marr_or_dtype\u001b[0m\u001b[1;33m)\u001b[0m\u001b[1;33m\u001b[0m\u001b[0m\n\u001b[0m\u001b[0;32m    570\u001b[0m \u001b[1;33m\u001b[0m\u001b[0m\n\u001b[0;32m    571\u001b[0m \u001b[1;33m\u001b[0m\u001b[0m\n",
      "\u001b[1;32mc:\\users\\rebecca\\documents\\tnm098-project\\env\\lib\\site-packages\\pandas\\core\\dtypes\\dtypes.py\u001b[0m in \u001b[0;36mis_dtype\u001b[1;34m(cls, dtype)\u001b[0m\n\u001b[0;32m    989\u001b[0m             \u001b[1;32melse\u001b[0m\u001b[1;33m:\u001b[0m\u001b[1;33m\u001b[0m\u001b[0m\n\u001b[0;32m    990\u001b[0m                 \u001b[1;32mreturn\u001b[0m \u001b[1;32mFalse\u001b[0m\u001b[1;33m\u001b[0m\u001b[0m\n\u001b[1;32m--> 991\u001b[1;33m         \u001b[1;32mreturn\u001b[0m \u001b[0msuper\u001b[0m\u001b[1;33m(\u001b[0m\u001b[0mIntervalDtype\u001b[0m\u001b[1;33m,\u001b[0m \u001b[0mcls\u001b[0m\u001b[1;33m)\u001b[0m\u001b[1;33m.\u001b[0m\u001b[0mis_dtype\u001b[0m\u001b[1;33m(\u001b[0m\u001b[0mdtype\u001b[0m\u001b[1;33m)\u001b[0m\u001b[1;33m\u001b[0m\u001b[0m\n\u001b[0m",
      "\u001b[1;32mc:\\users\\rebecca\\documents\\tnm098-project\\env\\lib\\site-packages\\pandas\\core\\dtypes\\base.py\u001b[0m in \u001b[0;36mis_dtype\u001b[1;34m(cls, dtype)\u001b[0m\n\u001b[0;32m     99\u001b[0m \u001b[1;33m\u001b[0m\u001b[0m\n\u001b[0;32m    100\u001b[0m         if isinstance(dtype, (ABCSeries, ABCIndexClass,\n\u001b[1;32m--> 101\u001b[1;33m                               ABCDataFrame, np.dtype)):\n\u001b[0m\u001b[0;32m    102\u001b[0m             \u001b[1;31m# https://github.com/pandas-dev/pandas/issues/22960\u001b[0m\u001b[1;33m\u001b[0m\u001b[1;33m\u001b[0m\u001b[0m\n\u001b[0;32m    103\u001b[0m             \u001b[1;31m# avoid passing data to `construct_from_string`. This could\u001b[0m\u001b[1;33m\u001b[0m\u001b[1;33m\u001b[0m\u001b[0m\n",
      "\u001b[1;32mc:\\users\\rebecca\\documents\\tnm098-project\\env\\lib\\site-packages\\pandas\\core\\dtypes\\generic.py\u001b[0m in \u001b[0;36m_check\u001b[1;34m(cls, inst)\u001b[0m\n\u001b[0;32m      7\u001b[0m     \u001b[1;33m@\u001b[0m\u001b[0mclassmethod\u001b[0m\u001b[1;33m\u001b[0m\u001b[0m\n\u001b[0;32m      8\u001b[0m     \u001b[1;32mdef\u001b[0m \u001b[0m_check\u001b[0m\u001b[1;33m(\u001b[0m\u001b[0mcls\u001b[0m\u001b[1;33m,\u001b[0m \u001b[0minst\u001b[0m\u001b[1;33m)\u001b[0m\u001b[1;33m:\u001b[0m\u001b[1;33m\u001b[0m\u001b[0m\n\u001b[1;32m----> 9\u001b[1;33m         \u001b[1;32mreturn\u001b[0m \u001b[0mgetattr\u001b[0m\u001b[1;33m(\u001b[0m\u001b[0minst\u001b[0m\u001b[1;33m,\u001b[0m \u001b[0mattr\u001b[0m\u001b[1;33m,\u001b[0m \u001b[1;34m'_typ'\u001b[0m\u001b[1;33m)\u001b[0m \u001b[1;32min\u001b[0m \u001b[0mcomp\u001b[0m\u001b[1;33m\u001b[0m\u001b[0m\n\u001b[0m\u001b[0;32m     10\u001b[0m \u001b[1;33m\u001b[0m\u001b[0m\n\u001b[0;32m     11\u001b[0m     \u001b[0mdct\u001b[0m \u001b[1;33m=\u001b[0m \u001b[0mdict\u001b[0m\u001b[1;33m(\u001b[0m\u001b[0m__instancecheck__\u001b[0m\u001b[1;33m=\u001b[0m\u001b[0m_check\u001b[0m\u001b[1;33m,\u001b[0m \u001b[0m__subclasscheck__\u001b[0m\u001b[1;33m=\u001b[0m\u001b[0m_check\u001b[0m\u001b[1;33m)\u001b[0m\u001b[1;33m\u001b[0m\u001b[0m\n",
      "\u001b[1;31mKeyboardInterrupt\u001b[0m: "
     ]
    }
   ],
   "source": [
    "G_sender_1278894 = nx.DiGraph()\n",
    "G_sender_1278894.add_node(1278894)\n",
    "weights = {}\n",
    "for index, row in sender_1278894.iterrows():\n",
    "    if row['to'] not in G_sender_1278894:\n",
    "        G_sender_1278894.add_edge(1278894, row['to'])\n",
    "        weights[row['to']] = 1\n",
    "    else:\n",
    "        weights[row['to']] += 1\n",
    "        \n",
    "#print(weights)"
   ]
  },
  {
   "cell_type": "code",
   "execution_count": null,
   "metadata": {},
   "outputs": [],
   "source": [
    "nx.draw(G_sender_1278894,\n",
    "        node_color = np.linspace(0,1,len(G_sender_1278894.nodes())),\n",
    "        width = 0.5\n",
    "        )\n",
    "plt.show()"
   ]
  },
  {
   "cell_type": "code",
   "execution_count": null,
   "metadata": {},
   "outputs": [],
   "source": []
  }
 ],
 "metadata": {
  "kernelspec": {
   "display_name": "Python 3",
   "language": "python",
   "name": "python3"
  },
  "language_info": {
   "codemirror_mode": {
    "name": "ipython",
    "version": 3
   },
   "file_extension": ".py",
   "mimetype": "text/x-python",
   "name": "python",
   "nbconvert_exporter": "python",
   "pygments_lexer": "ipython3",
   "version": "3.6.5"
  }
 },
 "nbformat": 4,
 "nbformat_minor": 2
}
