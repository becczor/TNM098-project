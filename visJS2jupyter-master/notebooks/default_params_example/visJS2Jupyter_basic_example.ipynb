{
 "cells": [
  {
   "cell_type": "markdown",
   "metadata": {},
   "source": [
    "# Basic use example of visJS2jupyter\n",
    "\n",
    "------------\n",
    "\n",
    "Authors: Brin Rosenthal (sbrosenthal@ucsd.edu), Mikayla Webster (m1webste@ucsd.edu), Julia Len (ljen@ucsd.edu)\n",
    "\n",
    "-----------\n"
   ]
  },
  {
   "cell_type": "markdown",
   "metadata": {},
   "source": [
    "This notebook has been tested, and should work with both networkx versions 1.11 and 2.1 and both Python 2 and 3"
   ]
  },
  {
   "cell_type": "markdown",
   "metadata": {},
   "source": [
    "## Import packages"
   ]
  },
  {
   "cell_type": "code",
   "execution_count": 4,
   "metadata": {},
   "outputs": [],
   "source": [
    "import networkx as nx\n",
    "import visJS2jupyter.visJS_module"
   ]
  },
  {
   "cell_type": "markdown",
   "metadata": {},
   "source": [
    "# Draw a simple network with default parameters"
   ]
  },
  {
   "cell_type": "code",
   "execution_count": 7,
   "metadata": {},
   "outputs": [],
   "source": [
    "G = nx.connected_watts_strogatz_graph(30, 5, 0.2)\n",
    "nodes = list(G.nodes()) # must cast to list to maintain compatibility between nx 1.11 and 2.0\n",
    "edges = list(G.edges()) # will return an \"EdgeView\" object in nx 2.0"
   ]
  },
  {
   "cell_type": "code",
   "execution_count": 10,
   "metadata": {},
   "outputs": [
    {
     "data": {
      "text/html": [
       "<!doctype html><html><head>  <title>Network | Basic usage</title></head><body><script type=\"text/javascript\">function setUpFrame() {     var frame = window.frames[\"style_file0\"];    frame.runVis([{\"node_shape\": \"dot\", \"degree\": 3.0, \"title\": 0, \"color\": \"#8BA8D3\", \"y\": -53.592290390000635, \"x\": 187.7491386396543, \"border_width\": 0, \"id\": 0}, {\"node_shape\": \"dot\", \"degree\": 3.0, \"title\": 1, \"color\": \"#8BA8D3\", \"y\": -82.1130024622532, \"x\": 164.82206183762747, \"border_width\": 0, \"id\": 1}, {\"node_shape\": \"dot\", \"degree\": 3.0, \"title\": 2, \"color\": \"#8BA8D3\", \"y\": -136.21387068289897, \"x\": 206.5186684073554, \"border_width\": 0, \"id\": 2}, {\"node_shape\": \"dot\", \"degree\": 3.0, \"title\": 3, \"color\": \"#8BA8D3\", \"y\": -167.4069445241689, \"x\": 171.82947080662228, \"border_width\": 0, \"id\": 3}, {\"node_shape\": \"dot\", \"degree\": 3.0, \"title\": 4, \"color\": \"#8BA8D3\", \"y\": -114.48906635738264, \"x\": 101.92367885977205, \"border_width\": 0, \"id\": 4}, {\"node_shape\": \"dot\", \"degree\": 3.0, \"title\": 5, \"color\": \"#8BA8D3\", \"y\": -157.88922160157227, \"x\": 115.48790584555135, \"border_width\": 0, \"id\": 5}, {\"node_shape\": \"dot\", \"degree\": 3.0, \"title\": 6, \"color\": \"#8BA8D3\", \"y\": -107.31634746728373, \"x\": 65.88260803740523, \"border_width\": 0, \"id\": 6}, {\"node_shape\": \"dot\", \"degree\": 3.0, \"title\": 7, \"color\": \"#8BA8D3\", \"y\": -55.257093092907375, \"x\": 105.50812292666986, \"border_width\": 0, \"id\": 7}, {\"node_shape\": \"dot\", \"degree\": 3.0, \"title\": 8, \"color\": \"#8BA8D3\", \"y\": -3.644774765209465, \"x\": 43.81711276240851, \"border_width\": 0, \"id\": 8}, {\"node_shape\": \"dot\", \"degree\": 3.0, \"title\": 9, \"color\": \"#8BA8D3\", \"y\": 65.7665265012204, \"x\": 111.67480845481148, \"border_width\": 0, \"id\": 9}, {\"node_shape\": \"dot\", \"degree\": 3.0, \"title\": 10, \"color\": \"#8BA8D3\", \"y\": 121.68246050081085, \"x\": 91.52232790172447, \"border_width\": 0, \"id\": 10}, {\"node_shape\": \"dot\", \"degree\": 3.0, \"title\": 11, \"color\": \"#8BA8D3\", \"y\": 176.4270534623774, \"x\": 107.21824928850508, \"border_width\": 0, \"id\": 11}, {\"node_shape\": \"dot\", \"degree\": 3.0, \"title\": 12, \"color\": \"#8BA8D3\", \"y\": 215.45415316206928, \"x\": 66.96880639302304, \"border_width\": 0, \"id\": 12}, {\"node_shape\": \"dot\", \"degree\": 3.0, \"title\": 13, \"color\": \"#8BA8D3\", \"y\": 211.45471145742226, \"x\": 28.665160091713318, \"border_width\": 0, \"id\": 13}, {\"node_shape\": \"dot\", \"degree\": 3.0, \"title\": 14, \"color\": \"#8BA8D3\", \"y\": 186.42268586710617, \"x\": -21.436400448529152, \"border_width\": 0, \"id\": 14}, {\"node_shape\": \"dot\", \"degree\": 3.0, \"title\": 15, \"color\": \"#8BA8D3\", \"y\": 118.21849045474247, \"x\": -8.40436107933099, \"border_width\": 0, \"id\": 15}, {\"node_shape\": \"dot\", \"degree\": 3.0, \"title\": 16, \"color\": \"#8BA8D3\", \"y\": 85.38677316965938, \"x\": -75.8388743123027, \"border_width\": 0, \"id\": 16}, {\"node_shape\": \"dot\", \"degree\": 3.0, \"title\": 17, \"color\": \"#8BA8D3\", \"y\": -1.1708010182022566, \"x\": -16.749300526772938, \"border_width\": 0, \"id\": 17}, {\"node_shape\": \"dot\", \"degree\": 3.0, \"title\": 18, \"color\": \"#8BA8D3\", \"y\": -15.9036447785545, \"x\": -118.60199579821068, \"border_width\": 0, \"id\": 18}, {\"node_shape\": \"dot\", \"degree\": 3.0, \"title\": 19, \"color\": \"#8BA8D3\", \"y\": -65.83401762395917, \"x\": -88.64015734668041, \"border_width\": 0, \"id\": 19}, {\"node_shape\": \"dot\", \"degree\": 3.0, \"title\": 20, \"color\": \"#8BA8D3\", \"y\": -75.62758166780516, \"x\": -202.8313836515729, \"border_width\": 0, \"id\": 20}, {\"node_shape\": \"dot\", \"degree\": 3.0, \"title\": 21, \"color\": \"#8BA8D3\", \"y\": -77.56381652707569, \"x\": -299.99999999999994, \"border_width\": 0, \"id\": 21}, {\"node_shape\": \"dot\", \"degree\": 3.0, \"title\": 22, \"color\": \"#8BA8D3\", \"y\": -51.40232225476785, \"x\": -271.31749904077503, \"border_width\": 0, \"id\": 22}, {\"node_shape\": \"dot\", \"degree\": 3.0, \"title\": 23, \"color\": \"#8BA8D3\", \"y\": -9.282154427448694, \"x\": -254.68238354906111, \"border_width\": 0, \"id\": 23}, {\"node_shape\": \"dot\", \"degree\": 3.0, \"title\": 24, \"color\": \"#8BA8D3\", \"y\": -10.448479552631431, \"x\": -196.08209010105372, \"border_width\": 0, \"id\": 24}, {\"node_shape\": \"dot\", \"degree\": 3.0, \"title\": 25, \"color\": \"#8BA8D3\", \"y\": 20.1742413360392, \"x\": -142.8121794295123, \"border_width\": 0, \"id\": 25}, {\"node_shape\": \"dot\", \"degree\": 3.0, \"title\": 26, \"color\": \"#8BA8D3\", \"y\": -5.930284182675563, \"x\": -70.00090260848322, \"border_width\": 0, \"id\": 26}, {\"node_shape\": \"dot\", \"degree\": 3.0, \"title\": 27, \"color\": \"#8BA8D3\", \"y\": 28.883140215975345, \"x\": -2.9006710938981795, \"border_width\": 0, \"id\": 27}, {\"node_shape\": \"dot\", \"degree\": 3.0, \"title\": 28, \"color\": \"#8BA8D3\", \"y\": -27.919454410828223, \"x\": 74.87994817407696, \"border_width\": 0, \"id\": 28}, {\"node_shape\": \"dot\", \"degree\": 3.0, \"title\": 29, \"color\": \"#8BA8D3\", \"y\": -10.865068339797093, \"x\": 125.83013055926233, \"border_width\": 0, \"id\": 29}], [{\"source\": 0, \"target\": 1, \"title\": \"test\"}, {\"source\": 0, \"target\": 2, \"title\": \"test\"}, {\"source\": 0, \"target\": 28, \"title\": \"test\"}, {\"source\": 0, \"target\": 29, \"title\": \"test\"}, {\"source\": 1, \"target\": 3, \"title\": \"test\"}, {\"source\": 1, \"target\": 28, \"title\": \"test\"}, {\"source\": 1, \"target\": 29, \"title\": \"test\"}, {\"source\": 2, \"target\": 3, \"title\": \"test\"}, {\"source\": 2, \"target\": 4, \"title\": \"test\"}, {\"source\": 3, \"target\": 4, \"title\": \"test\"}, {\"source\": 3, \"target\": 5, \"title\": \"test\"}, {\"source\": 4, \"target\": 17, \"title\": \"test\"}, {\"source\": 4, \"target\": 5, \"title\": \"test\"}, {\"source\": 4, \"target\": 6, \"title\": \"test\"}, {\"source\": 5, \"target\": 6, \"title\": \"test\"}, {\"source\": 5, \"target\": 7, \"title\": \"test\"}, {\"source\": 6, \"target\": 8, \"title\": \"test\"}, {\"source\": 6, \"target\": 7, \"title\": \"test\"}, {\"source\": 7, \"target\": 8, \"title\": \"test\"}, {\"source\": 7, \"target\": 9, \"title\": \"test\"}, {\"source\": 8, \"target\": 9, \"title\": \"test\"}, {\"source\": 8, \"target\": 10, \"title\": \"test\"}, {\"source\": 8, \"target\": 19, \"title\": \"test\"}, {\"source\": 9, \"target\": 10, \"title\": \"test\"}, {\"source\": 9, \"target\": 11, \"title\": \"test\"}, {\"source\": 10, \"target\": 11, \"title\": \"test\"}, {\"source\": 10, \"target\": 12, \"title\": \"test\"}, {\"source\": 11, \"target\": 12, \"title\": \"test\"}, {\"source\": 11, \"target\": 13, \"title\": \"test\"}, {\"source\": 12, \"target\": 13, \"title\": \"test\"}, {\"source\": 12, \"target\": 14, \"title\": \"test\"}, {\"source\": 13, \"target\": 14, \"title\": \"test\"}, {\"source\": 13, \"target\": 15, \"title\": \"test\"}, {\"source\": 14, \"target\": 16, \"title\": \"test\"}, {\"source\": 14, \"target\": 15, \"title\": \"test\"}, {\"source\": 15, \"target\": 17, \"title\": \"test\"}, {\"source\": 15, \"target\": 27, \"title\": \"test\"}, {\"source\": 16, \"target\": 17, \"title\": \"test\"}, {\"source\": 16, \"target\": 18, \"title\": \"test\"}, {\"source\": 17, \"target\": 18, \"title\": \"test\"}, {\"source\": 18, \"target\": 19, \"title\": \"test\"}, {\"source\": 18, \"target\": 20, \"title\": \"test\"}, {\"source\": 19, \"target\": 20, \"title\": \"test\"}, {\"source\": 20, \"target\": 21, \"title\": \"test\"}, {\"source\": 20, \"target\": 22, \"title\": \"test\"}, {\"source\": 21, \"target\": 22, \"title\": \"test\"}, {\"source\": 21, \"target\": 23, \"title\": \"test\"}, {\"source\": 22, \"target\": 24, \"title\": \"test\"}, {\"source\": 22, \"target\": 23, \"title\": \"test\"}, {\"source\": 23, \"target\": 24, \"title\": \"test\"}, {\"source\": 23, \"target\": 25, \"title\": \"test\"}, {\"source\": 24, \"target\": 25, \"title\": \"test\"}, {\"source\": 24, \"target\": 26, \"title\": \"test\"}, {\"source\": 25, \"target\": 26, \"title\": \"test\"}, {\"source\": 25, \"target\": 27, \"title\": \"test\"}, {\"source\": 26, \"target\": 27, \"title\": \"test\"}, {\"source\": 26, \"target\": 28, \"title\": \"test\"}, {\"source\": 27, \"target\": 28, \"title\": \"test\"}, {\"source\": 27, \"target\": 29, \"title\": \"test\"}, {\"source\": 28, \"target\": 29, \"title\": \"test\"}]);}</script><iframe name=\"style_file0\" src=\"style_file0.html\" width=\"100%;\" height=\"805px\"></iframe></body></html>"
      ],
      "text/plain": [
       "<IPython.core.display.HTML object>"
      ]
     },
     "execution_count": 10,
     "metadata": {},
     "output_type": "execute_result"
    }
   ],
   "source": [
    "# define the initial positions of the nodes using networkx's spring_layout function, and add to the nodes_dict.\n",
    "pos = nx.spring_layout(G)\n",
    "\n",
    "nodes_dict = [{\"id\":n,\n",
    "              \"x\":pos[n][0]*300,\n",
    "              \"y\":pos[n][1]*300} for n in nodes]\n",
    "\n",
    "node_map = dict(zip(nodes,range(len(nodes))))  # map to indices for source/target in edges\n",
    "\n",
    "edges_dict = [{\"source\":node_map[edges[i][0]], \"target\":node_map[edges[i][1]], \n",
    "              \"title\":'test'} for i in range(len(edges))]\n",
    "\n",
    "visJS2jupyter.visJS_module.visjs_network(nodes_dict, edges_dict)"
   ]
  },
  {
   "cell_type": "code",
   "execution_count": null,
   "metadata": {
    "collapsed": true
   },
   "outputs": [],
   "source": []
  }
 ],
 "metadata": {
  "kernelspec": {
   "display_name": "Python 2",
   "language": "python",
   "name": "python2"
  },
  "language_info": {
   "codemirror_mode": {
    "name": "ipython",
    "version": 2
   },
   "file_extension": ".py",
   "mimetype": "text/x-python",
   "name": "python",
   "nbconvert_exporter": "python",
   "pygments_lexer": "ipython2",
   "version": "2.7.14"
  }
 },
 "nbformat": 4,
 "nbformat_minor": 1
}
