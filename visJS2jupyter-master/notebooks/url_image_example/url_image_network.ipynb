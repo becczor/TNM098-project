{
 "cells": [
  {
   "cell_type": "markdown",
   "metadata": {},
   "source": [
    "# Using a URL image in visJS2jupyter\n",
    "\n",
    "------------\n",
    "\n",
    "Authors: Brin Rosenthal (sbrosenthal@ucsd.edu), Mikayla Webster (m1webste@ucsd.edu), Julia Len (jlen@ucsd.edu)\n",
    "\n",
    "-----------"
   ]
  },
  {
   "cell_type": "markdown",
   "metadata": {},
   "source": [
    "## Import packages"
   ]
  },
  {
   "cell_type": "code",
   "execution_count": 1,
   "metadata": {},
   "outputs": [
    {
     "data": {
      "text/plain": [
       "<module 'visJS2jupyter.visJS_module' from 'C:\\Users\\m1webste\\Anaconda2\\lib\\site-packages\\visJS2jupyter\\visJS_module.pyc'>"
      ]
     },
     "execution_count": 1,
     "metadata": {},
     "output_type": "execute_result"
    }
   ],
   "source": [
    "import matplotlib as mpl\n",
    "import networkx as nx\n",
    "import visJS2jupyter.visJS_module as visJS_module\n",
    "reload(visJS_module)"
   ]
  },
  {
   "cell_type": "code",
   "execution_count": 2,
   "metadata": {
    "collapsed": true
   },
   "outputs": [],
   "source": [
    "# create a simple graph\n",
    "G = nx.connected_watts_strogatz_graph(30,5,.2)\n",
    "nodes = list(G.nodes()) # type cast to list in order to make compatible with networkx 1.11 and 2.0\n",
    "edges = list(G.edges()) # for nx 2.0, returns an \"EdgeView\" object rather than an iterable"
   ]
  },
  {
   "cell_type": "markdown",
   "metadata": {},
   "source": [
    "# Map node attributes to visual properties, and style the nodes and edges\n",
    "\n",
    "- To map node attributes to properties, simply add the property to the graph as a node-attribute, and use the return_node_to_color function"
   ]
  },
  {
   "cell_type": "code",
   "execution_count": 3,
   "metadata": {
    "collapsed": true
   },
   "outputs": [],
   "source": [
    "degree = dict(G.degree())\n",
    "nx.set_node_attributes(G, name = 'degree', values = degree) "
   ]
  },
  {
   "cell_type": "markdown",
   "metadata": {},
   "source": [
    "<a id='interactive_network'></a>\n",
    "### Interactive network"
   ]
  },
  {
   "cell_type": "code",
   "execution_count": 4,
   "metadata": {},
   "outputs": [
    {
     "data": {
      "text/html": [
       "<!doctype html><html><head>  <title>Network | Basic usage</title></head><body><script type=\"text/javascript\">function setUpFrame() {     var frame = window.frames[\"style_file0\"];    frame.runVis([{\"node_shape\": \"image\", \"degree\": 4, \"title\": 0, \"color\": \"#8BA8D3\", \"y\": 191.81093144491652, \"x\": 253.98839428813056, \"border_width\": 0, \"id\": 0}, {\"node_shape\": \"image\", \"degree\": 4, \"title\": 1, \"color\": \"#8BA8D3\", \"y\": 116.61339141276257, \"x\": 85.3811721183744, \"border_width\": 0, \"id\": 1}, {\"node_shape\": \"image\", \"degree\": 2, \"title\": 2, \"color\": \"#8BA8D3\", \"y\": 0.0, \"x\": 258.7025922487813, \"border_width\": 0, \"id\": 2}, {\"node_shape\": \"image\", \"degree\": 5, \"title\": 3, \"color\": \"#8BA8D3\", \"y\": 244.33539927269638, \"x\": 259.50777313070256, \"border_width\": 0, \"id\": 3}, {\"node_shape\": \"image\", \"degree\": 5, \"title\": 4, \"color\": \"#8BA8D3\", \"y\": 448.7506497410885, \"x\": 64.45864275490742, \"border_width\": 0, \"id\": 4}, {\"node_shape\": \"image\", \"degree\": 3, \"title\": 5, \"color\": \"#8BA8D3\", \"y\": 673.4757051667402, \"x\": 171.2698584240021, \"border_width\": 0, \"id\": 5}, {\"node_shape\": \"image\", \"degree\": 4, \"title\": 6, \"color\": \"#8BA8D3\", \"y\": 575.3039944851332, \"x\": 56.70868766772883, \"border_width\": 0, \"id\": 6}, {\"node_shape\": \"image\", \"degree\": 5, \"title\": 7, \"color\": \"#8BA8D3\", \"y\": 302.8117383006448, \"x\": 129.90889264442725, \"border_width\": 0, \"id\": 7}, {\"node_shape\": \"image\", \"degree\": 4, \"title\": 8, \"color\": \"#8BA8D3\", \"y\": 495.97555118588747, \"x\": 34.83591279828072, \"border_width\": 0, \"id\": 8}, {\"node_shape\": \"image\", \"degree\": 4, \"title\": 9, \"color\": \"#8BA8D3\", \"y\": 408.3565037560068, \"x\": 200.45473941665483, \"border_width\": 0, \"id\": 9}, {\"node_shape\": \"image\", \"degree\": 3, \"title\": 10, \"color\": \"#8BA8D3\", \"y\": 444.3006829453018, \"x\": 138.1454839250072, \"border_width\": 0, \"id\": 10}, {\"node_shape\": \"image\", \"degree\": 3, \"title\": 11, \"color\": \"#8BA8D3\", \"y\": 310.10858540450204, \"x\": 0.0, \"border_width\": 0, \"id\": 11}, {\"node_shape\": \"image\", \"degree\": 4, \"title\": 12, \"color\": \"#8BA8D3\", \"y\": 172.38765308735583, \"x\": 138.174369696359, \"border_width\": 0, \"id\": 12}, {\"node_shape\": \"image\", \"degree\": 3, \"title\": 13, \"color\": \"#8BA8D3\", \"y\": 9.44451976034219, \"x\": 331.8368730515732, \"border_width\": 0, \"id\": 13}, {\"node_shape\": \"image\", \"degree\": 5, \"title\": 14, \"color\": \"#8BA8D3\", \"y\": 112.84643009066583, \"x\": 369.31046101538925, \"border_width\": 0, \"id\": 14}, {\"node_shape\": \"image\", \"degree\": 4, \"title\": 15, \"color\": \"#8BA8D3\", \"y\": 126.46234558604016, \"x\": 545.5893211012421, \"border_width\": 0, \"id\": 15}, {\"node_shape\": \"image\", \"degree\": 4, \"title\": 16, \"color\": \"#8BA8D3\", \"y\": 187.83162686515152, \"x\": 636.0713468819905, \"border_width\": 0, \"id\": 16}, {\"node_shape\": \"image\", \"degree\": 4, \"title\": 17, \"color\": \"#8BA8D3\", \"y\": 304.8086475789873, \"x\": 657.1472043146749, \"border_width\": 0, \"id\": 17}, {\"node_shape\": \"image\", \"degree\": 4, \"title\": 18, \"color\": \"#8BA8D3\", \"y\": 407.30688053045213, \"x\": 671.8063473727279, \"border_width\": 0, \"id\": 18}, {\"node_shape\": \"image\", \"degree\": 5, \"title\": 19, \"color\": \"#8BA8D3\", \"y\": 311.23922813739165, \"x\": 511.6086347782404, \"border_width\": 0, \"id\": 19}, {\"node_shape\": \"image\", \"degree\": 3, \"title\": 20, \"color\": \"#8BA8D3\", \"y\": 614.6442714358699, \"x\": 576.0675902701106, \"border_width\": 0, \"id\": 20}, {\"node_shape\": \"image\", \"degree\": 4, \"title\": 21, \"color\": \"#8BA8D3\", \"y\": 427.55116828729524, \"x\": 488.4419653569745, \"border_width\": 0, \"id\": 21}, {\"node_shape\": \"image\", \"degree\": 3, \"title\": 22, \"color\": \"#8BA8D3\", \"y\": 700.0, \"x\": 510.4888837771658, \"border_width\": 0, \"id\": 22}, {\"node_shape\": \"image\", \"degree\": 4, \"title\": 23, \"color\": \"#8BA8D3\", \"y\": 586.9770912094363, \"x\": 607.2912978896213, \"border_width\": 0, \"id\": 23}, {\"node_shape\": \"image\", \"degree\": 5, \"title\": 24, \"color\": \"#8BA8D3\", \"y\": 650.0310368136584, \"x\": 410.4510407096511, \"border_width\": 0, \"id\": 24}, {\"node_shape\": \"image\", \"degree\": 4, \"title\": 25, \"color\": \"#8BA8D3\", \"y\": 458.41221351597346, \"x\": 533.553359495937, \"border_width\": 0, \"id\": 25}, {\"node_shape\": \"image\", \"degree\": 5, \"title\": 26, \"color\": \"#8BA8D3\", \"y\": 455.7855952439918, \"x\": 339.556519239142, \"border_width\": 0, \"id\": 26}, {\"node_shape\": \"image\", \"degree\": 3, \"title\": 27, \"color\": \"#8BA8D3\", \"y\": 157.3717421635067, \"x\": 454.9803217535423, \"border_width\": 0, \"id\": 27}, {\"node_shape\": \"image\", \"degree\": 6, \"title\": 28, \"color\": \"#8BA8D3\", \"y\": 236.50702063079262, \"x\": 355.2036643662135, \"border_width\": 0, \"id\": 28}, {\"node_shape\": \"image\", \"degree\": 4, \"title\": 29, \"color\": \"#8BA8D3\", \"y\": 24.990959367999935, \"x\": 201.90834150596993, \"border_width\": 0, \"id\": 29}], [{\"color\": \"gray\", \"source\": 0, \"target\": 1}, {\"color\": \"gray\", \"source\": 0, \"target\": 28}, {\"color\": \"gray\", \"source\": 0, \"target\": 29}, {\"color\": \"gray\", \"source\": 0, \"target\": 21}, {\"color\": \"gray\", \"source\": 1, \"target\": 3}, {\"color\": \"gray\", \"source\": 1, \"target\": 29}, {\"color\": \"gray\", \"source\": 1, \"target\": 7}, {\"color\": \"gray\", \"source\": 2, \"target\": 3}, {\"color\": \"gray\", \"source\": 2, \"target\": 29}, {\"color\": \"gray\", \"source\": 3, \"target\": 4}, {\"color\": \"gray\", \"source\": 3, \"target\": 15}, {\"color\": \"gray\", \"source\": 3, \"target\": 26}, {\"color\": \"gray\", \"source\": 4, \"target\": 5}, {\"color\": \"gray\", \"source\": 4, \"target\": 6}, {\"color\": \"gray\", \"source\": 4, \"target\": 9}, {\"color\": \"gray\", \"source\": 4, \"target\": 11}, {\"color\": \"gray\", \"source\": 5, \"target\": 24}, {\"color\": \"gray\", \"source\": 5, \"target\": 6}, {\"color\": \"gray\", \"source\": 6, \"target\": 8}, {\"color\": \"gray\", \"source\": 6, \"target\": 7}, {\"color\": \"gray\", \"source\": 7, \"target\": 8}, {\"color\": \"gray\", \"source\": 7, \"target\": 14}, {\"color\": \"gray\", \"source\": 7, \"target\": 28}, {\"color\": \"gray\", \"source\": 8, \"target\": 9}, {\"color\": \"gray\", \"source\": 8, \"target\": 10}, {\"color\": \"gray\", \"source\": 9, \"target\": 11}, {\"color\": \"gray\", \"source\": 9, \"target\": 19}, {\"color\": \"gray\", \"source\": 10, \"target\": 26}, {\"color\": \"gray\", \"source\": 10, \"target\": 12}, {\"color\": \"gray\", \"source\": 11, \"target\": 12}, {\"color\": \"gray\", \"source\": 12, \"target\": 13}, {\"color\": \"gray\", \"source\": 12, \"target\": 14}, {\"color\": \"gray\", \"source\": 13, \"target\": 28}, {\"color\": \"gray\", \"source\": 13, \"target\": 14}, {\"color\": \"gray\", \"source\": 14, \"target\": 16}, {\"color\": \"gray\", \"source\": 14, \"target\": 15}, {\"color\": \"gray\", \"source\": 15, \"target\": 16}, {\"color\": \"gray\", \"source\": 15, \"target\": 17}, {\"color\": \"gray\", \"source\": 16, \"target\": 18}, {\"color\": \"gray\", \"source\": 16, \"target\": 19}, {\"color\": \"gray\", \"source\": 17, \"target\": 18}, {\"color\": \"gray\", \"source\": 17, \"target\": 19}, {\"color\": \"gray\", \"source\": 17, \"target\": 21}, {\"color\": \"gray\", \"source\": 18, \"target\": 19}, {\"color\": \"gray\", \"source\": 18, \"target\": 20}, {\"color\": \"gray\", \"source\": 19, \"target\": 28}, {\"color\": \"gray\", \"source\": 20, \"target\": 21}, {\"color\": \"gray\", \"source\": 20, \"target\": 22}, {\"color\": \"gray\", \"source\": 21, \"target\": 23}, {\"color\": \"gray\", \"source\": 22, \"target\": 24}, {\"color\": \"gray\", \"source\": 22, \"target\": 23}, {\"color\": \"gray\", \"source\": 23, \"target\": 24}, {\"color\": \"gray\", \"source\": 23, \"target\": 25}, {\"color\": \"gray\", \"source\": 24, \"target\": 25}, {\"color\": \"gray\", \"source\": 24, \"target\": 26}, {\"color\": \"gray\", \"source\": 25, \"target\": 26}, {\"color\": \"gray\", \"source\": 25, \"target\": 27}, {\"color\": \"gray\", \"source\": 26, \"target\": 28}, {\"color\": \"gray\", \"source\": 27, \"target\": 28}, {\"color\": \"gray\", \"source\": 27, \"target\": 29}]);}</script><iframe name=\"style_file0\" src=\"style_file0.html\" width=\"100%;\" height=\"805px\"></iframe></body></html>"
      ],
      "text/plain": [
       "<IPython.core.display.HTML object>"
      ]
     },
     "execution_count": 4,
     "metadata": {},
     "output_type": "execute_result"
    }
   ],
   "source": [
    "# set node initial positions using networkx's spring_layout function\n",
    "pos = nx.spring_layout(G)\n",
    "\n",
    "# set per-node attributes\n",
    "nodes_dict = [{\"id\":n,\n",
    "               \"degree\":nx.degree(G,n),\n",
    "               \"node_shape\": 'image', # must set node shape to \"image\"\n",
    "               \"x\":pos[n][0]*700,\n",
    "               \"y\":pos[n][1]*700} for n in nodes\n",
    "              ]\n",
    "\n",
    "# map to indices for source/target in edges\n",
    "node_map = dict(zip(nodes,range(len(nodes))))\n",
    "\n",
    "# set per-edge attributes\n",
    "edges_dict = [{\"source\":node_map[edges[i][0]], \"target\":node_map[edges[i][1]], \n",
    "              \"color\":\"gray\"} for i in range(len(edges))]\n",
    "\n",
    "# url iage to use as node shape\n",
    "url = 'https://cdn0.iconfinder.com/data/icons/kids-paint/512/hedgehog-512.png'\n",
    "\n",
    "# set network-wide style parameters\n",
    "visJS_module.visjs_network(nodes_dict,edges_dict,\n",
    "                          node_size_multiplier=10,\n",
    "                          node_size_transform = '',\n",
    "                          node_font_size=25,\n",
    "                          edge_arrow_to=True,\n",
    "                          physics_enabled=True,\n",
    "                          edge_color_highlight='#8A324E',\n",
    "                          edge_color_hover='#8BADD3',\n",
    "                          edge_width=3,\n",
    "                          max_velocity=15,\n",
    "                          node_image = url, # specify url here\n",
    "                          min_velocity=1)\n",
    "\n"
   ]
  },
  {
   "cell_type": "code",
   "execution_count": null,
   "metadata": {
    "collapsed": true
   },
   "outputs": [],
   "source": []
  }
 ],
 "metadata": {
  "kernelspec": {
   "display_name": "Python 2",
   "language": "python",
   "name": "python2"
  },
  "language_info": {
   "codemirror_mode": {
    "name": "ipython",
    "version": 2
   },
   "file_extension": ".py",
   "mimetype": "text/x-python",
   "name": "python",
   "nbconvert_exporter": "python",
   "pygments_lexer": "ipython2",
   "version": "2.7.14"
  }
 },
 "nbformat": 4,
 "nbformat_minor": 1
}
