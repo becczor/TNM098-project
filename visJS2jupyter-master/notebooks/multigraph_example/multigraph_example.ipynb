{
 "cells": [
  {
   "cell_type": "markdown",
   "metadata": {},
   "source": [
    "# Multigraph Network Styling for visJS2jupyter\n",
    "\n",
    "------------\n",
    "\n",
    "Authors: Brin Rosenthal (sbrosenthal@ucsd.edu), Mikayla Webster (m1webste@ucsd.edu)\n",
    "\n",
    "-----------\n",
    "\n",
    "## Import packages"
   ]
  },
  {
   "cell_type": "code",
   "execution_count": 1,
   "metadata": {},
   "outputs": [
    {
     "data": {
      "text/plain": [
       "<module 'visJS2jupyter.visJS_module' from 'C:\\Users\\m1webste\\Anaconda2\\lib\\site-packages\\visJS2jupyter\\visJS_module.pyc'>"
      ]
     },
     "execution_count": 1,
     "metadata": {},
     "output_type": "execute_result"
    }
   ],
   "source": [
    "import matplotlib as mpl\n",
    "import networkx as nx\n",
    "import pandas as pd\n",
    "import random\n",
    "import numpy as np\n",
    "\n",
    "from visJS2jupyter import visJS_module\n",
    "reload(visJS_module)"
   ]
  },
  {
   "cell_type": "markdown",
   "metadata": {},
   "source": [
    "We start by creating a randomized, single-edged graph, and convert that to a multigraph"
   ]
  },
  {
   "cell_type": "code",
   "execution_count": 2,
   "metadata": {
    "collapsed": true
   },
   "outputs": [],
   "source": [
    "G = nx.connected_watts_strogatz_graph(30,5,.2)\n",
    "G = nx.MultiGraph(G)\n",
    "edges = G.edges(keys = True) # for multigraphs every edge has to be represented by a three-tuple (source, target, key)"
   ]
  },
  {
   "cell_type": "markdown",
   "metadata": {},
   "source": [
    "We duplicate every edge in the graph to make it a true multigraph. \n",
    "\n",
    "Note: NetworkX does not support duplicate edges with opposite directions. NetworkX will flip any backwards edges you try to add to your graph. For example, if your graph currently contains the edges [(0,1), (1,2)] and you add the edge (1,0) to your graph, your graph will now contain edges [(0,1), (0,1), (1,2)]"
   ]
  },
  {
   "cell_type": "code",
   "execution_count": 3,
   "metadata": {
    "collapsed": true
   },
   "outputs": [],
   "source": [
    "sources = list(zip(*edges)[0])\n",
    "targets = list(zip(*edges)[1])\n",
    "backward_edges = list(zip(targets, sources)) # demonstarting adding backwards edges"
   ]
  },
  {
   "cell_type": "code",
   "execution_count": 4,
   "metadata": {
    "collapsed": true,
    "scrolled": true
   },
   "outputs": [],
   "source": [
    "G.add_edges_from(backward_edges)\n",
    "edges = list(G.edges(data = True))"
   ]
  },
  {
   "cell_type": "code",
   "execution_count": 5,
   "metadata": {
    "collapsed": true
   },
   "outputs": [],
   "source": [
    "nodes = list(G.nodes()) # type cast to list in order to make compatible with networkx 1.11 and 2.0\n",
    "edges = list(G.edges(keys = True)) # for nx 2.0, returns an \"EdgeView\" object rather than an iterable"
   ]
  },
  {
   "cell_type": "markdown",
   "metadata": {},
   "source": [
    "## Multigraph Node and Edge Styling\n",
    "There is no difference between multigraph and single-edged-graph styling. Just map the node and edge attributes to some visual properties, and style the nodes and edges according to these properties (like usual!)"
   ]
  },
  {
   "cell_type": "code",
   "execution_count": 6,
   "metadata": {
    "collapsed": true
   },
   "outputs": [],
   "source": [
    "# add some node attributes to color-code by\n",
    "degree = dict(G.degree()) # nx 2.0 returns a \"DegreeView\" object. Cast to dict to maintain compatibility with nx 1.11\n",
    "bc = nx.betweenness_centrality(G)\n",
    "nx.set_node_attributes(G, name = 'degree', values = degree)             # between networkx 1.11 and 2.0, therefore we must\n",
    "nx.set_node_attributes(G, name = 'betweenness_centrality', values = bc) # explicitly pass our arguments \n",
    "                                                                        # (not implicitly through position)\n",
    "\n",
    "# add the edge attribute 'weight' to color-code by\n",
    "weights = []\n",
    "for i in range(len(edges)):\n",
    "    weights.append(float(random.randint(1,5))) \n",
    "    \n",
    "w_dict = dict(zip(edges, weights))\n",
    "nx.set_edge_attributes(G, name = 'weight', values = w_dict)\n"
   ]
  },
  {
   "cell_type": "code",
   "execution_count": 7,
   "metadata": {},
   "outputs": [],
   "source": [
    "# map the betweenness centrality to the node color, using matplotlib spring_r colormap\n",
    "node_to_color = visJS_module.return_node_to_color(G,field_to_map='betweenness_centrality',cmap=mpl.cm.spring_r,alpha = 1,\n",
    "                                                 color_max_frac = .9,color_min_frac = .1)\n",
    "\n",
    "# map weight to edge color, using default settings\n",
    "edge_to_color = visJS_module.return_edge_to_color(G,field_to_map='weight')"
   ]
  },
  {
   "cell_type": "markdown",
   "metadata": {},
   "source": [
    "## Interactive network\n",
    "\n",
    "Note that this example is simply the multigraph version of our \"Complex Parameters\" notebook."
   ]
  },
  {
   "cell_type": "code",
   "execution_count": 8,
   "metadata": {},
   "outputs": [
    {
     "data": {
      "text/html": [
       "<!doctype html><html><head>  <title>Network | Basic usage</title></head><body><script type=\"text/javascript\">function setUpFrame() {     var frame = window.frames[\"style_file0\"];    frame.runVis([{\"node_shape\": \"dot\", \"degree\": 10, \"title\": 0, \"color\": \"rgba(256, 170, 85, 1)\", \"y\": 624.9350477298073, \"x\": 526.8968454085309, \"border_width\": 0, \"id\": 0}, {\"node_shape\": \"dot\", \"degree\": 8, \"title\": 1, \"color\": \"rgba(256, 211, 44, 1)\", \"y\": 479.32659632768, \"x\": 351.11927987930926, \"border_width\": 0, \"id\": 1}, {\"node_shape\": \"dot\", \"degree\": 8, \"title\": 2, \"color\": \"rgba(256, 183, 72, 1)\", \"y\": 409.3987469301242, \"x\": 479.4474077083953, \"border_width\": 0, \"id\": 2}, {\"node_shape\": \"dot\", \"degree\": 8, \"title\": 3, \"color\": \"rgba(256, 178, 77, 1)\", \"y\": 304.7045897804892, \"x\": 284.39105090164173, \"border_width\": 0, \"id\": 3}, {\"node_shape\": \"dot\", \"degree\": 12, \"title\": 4, \"color\": \"rgba(256, 158, 97, 1)\", \"y\": 250.54889957099968, \"x\": 455.3328205187793, \"border_width\": 0, \"id\": 4}, {\"node_shape\": \"dot\", \"degree\": 10, \"title\": 5, \"color\": \"rgba(256, 137, 118, 1)\", \"y\": 235.9136814228294, \"x\": 508.3325180021332, \"border_width\": 0, \"id\": 5}, {\"node_shape\": \"dot\", \"degree\": 8, \"title\": 6, \"color\": \"rgba(256, 181, 74, 1)\", \"y\": 162.62115060508233, \"x\": 618.4421191602003, \"border_width\": 0, \"id\": 6}, {\"node_shape\": \"dot\", \"degree\": 6, \"title\": 7, \"color\": \"rgba(256, 223, 32, 1)\", \"y\": 0.0, \"x\": 776.4923972490254, \"border_width\": 0, \"id\": 7}, {\"node_shape\": \"dot\", \"degree\": 6, \"title\": 8, \"color\": \"rgba(256, 206, 49, 1)\", \"y\": 202.24328258325207, \"x\": 719.4533356948023, \"border_width\": 0, \"id\": 8}, {\"node_shape\": \"dot\", \"degree\": 4, \"title\": 9, \"color\": \"rgba(256, 223, 32, 1)\", \"y\": 403.0499834446859, \"x\": 387.0367079685458, \"border_width\": 0, \"id\": 9}, {\"node_shape\": \"dot\", \"degree\": 4, \"title\": 10, \"color\": \"rgba(256, 211, 44, 1)\", \"y\": 545.8225859299417, \"x\": 831.5292345904752, \"border_width\": 0, \"id\": 10}, {\"node_shape\": \"dot\", \"degree\": 4, \"title\": 11, \"color\": \"rgba(256, 225, 30, 1)\", \"y\": 1000.0, \"x\": 853.2701987344207, \"border_width\": 0, \"id\": 11}, {\"node_shape\": \"dot\", \"degree\": 8, \"title\": 12, \"color\": \"rgba(256, 160, 95, 1)\", \"y\": 783.4620670601457, \"x\": 742.7091439159954, \"border_width\": 0, \"id\": 12}, {\"node_shape\": \"dot\", \"degree\": 6, \"title\": 13, \"color\": \"rgba(256, 208, 47, 1)\", \"y\": 873.6399381251259, \"x\": 781.5406931119845, \"border_width\": 0, \"id\": 13}, {\"node_shape\": \"dot\", \"degree\": 8, \"title\": 14, \"color\": \"rgba(256, 188, 67, 1)\", \"y\": 670.6303846799062, \"x\": 718.6561407452544, \"border_width\": 0, \"id\": 14}, {\"node_shape\": \"dot\", \"degree\": 12, \"title\": 15, \"color\": \"rgba(256, 103, 152, 1)\", \"y\": 659.4472826978773, \"x\": 649.839513675625, \"border_width\": 0, \"id\": 15}, {\"node_shape\": \"dot\", \"degree\": 12, \"title\": 16, \"color\": \"rgba(256, 117, 138, 1)\", \"y\": 547.0614491399043, \"x\": 507.36388842953386, \"border_width\": 0, \"id\": 16}, {\"node_shape\": \"dot\", \"degree\": 6, \"title\": 17, \"color\": \"rgba(256, 218, 37, 1)\", \"y\": 564.7344037035114, \"x\": 666.6561955626181, \"border_width\": 0, \"id\": 17}, {\"node_shape\": \"dot\", \"degree\": 10, \"title\": 18, \"color\": \"rgba(256, 170, 85, 1)\", \"y\": 407.7922106338941, \"x\": 658.8668928804248, \"border_width\": 0, \"id\": 18}, {\"node_shape\": \"dot\", \"degree\": 10, \"title\": 19, \"color\": \"rgba(256, 168, 87, 1)\", \"y\": 499.5579268396205, \"x\": 561.2915120827221, \"border_width\": 0, \"id\": 19}, {\"node_shape\": \"dot\", \"degree\": 18, \"title\": 20, \"color\": \"rgba(256, 25, 230, 1)\", \"y\": 366.9760832615238, \"x\": 663.9562020942551, \"border_width\": 0, \"id\": 20}, {\"node_shape\": \"dot\", \"degree\": 6, \"title\": 21, \"color\": \"rgba(256, 216, 39, 1)\", \"y\": 500.6413508710229, \"x\": 724.3223394045301, \"border_width\": 0, \"id\": 21}, {\"node_shape\": \"dot\", \"degree\": 8, \"title\": 22, \"color\": \"rgba(256, 196, 59, 1)\", \"y\": 412.0827674647235, \"x\": 794.1027505294686, \"border_width\": 0, \"id\": 22}, {\"node_shape\": \"dot\", \"degree\": 6, \"title\": 23, \"color\": \"rgba(256, 207, 48, 1)\", \"y\": 45.82729174007853, \"x\": 616.1604450076169, \"border_width\": 0, \"id\": 23}, {\"node_shape\": \"dot\", \"degree\": 8, \"title\": 24, \"color\": \"rgba(256, 198, 57, 1)\", \"y\": 239.17696493232938, \"x\": 669.0060889409616, \"border_width\": 0, \"id\": 24}, {\"node_shape\": \"dot\", \"degree\": 6, \"title\": 25, \"color\": \"rgba(256, 193, 62, 1)\", \"y\": 325.46392466727764, \"x\": 492.4522121150494, \"border_width\": 0, \"id\": 25}, {\"node_shape\": \"dot\", \"degree\": 4, \"title\": 26, \"color\": \"rgba(256, 230, 25, 1)\", \"y\": 485.61355998098253, \"x\": 0.0, \"border_width\": 0, \"id\": 26}, {\"node_shape\": \"dot\", \"degree\": 8, \"title\": 27, \"color\": \"rgba(256, 164, 91, 1)\", \"y\": 455.5847864716586, \"x\": 266.1837004688978, \"border_width\": 0, \"id\": 27}, {\"node_shape\": \"dot\", \"degree\": 8, \"title\": 28, \"color\": \"rgba(256, 185, 70, 1)\", \"y\": 465.7054970374745, \"x\": 164.712083545966, \"border_width\": 0, \"id\": 28}, {\"node_shape\": \"dot\", \"degree\": 8, \"title\": 29, \"color\": \"rgba(256, 181, 74, 1)\", \"y\": 570.9232677685002, \"x\": 327.4730883539859, \"border_width\": 0, \"id\": 29}], [{\"color\": \"rgba(0, 0, 128, 1.0)\", \"source\": 0, \"target\": 1, \"title\": \"test\"}, {\"color\": \"rgba(125, 256, 122, 1.0)\", \"source\": 0, \"target\": 1, \"title\": \"test\"}, {\"color\": \"rgba(0, 0, 128, 1.0)\", \"source\": 0, \"target\": 2, \"title\": \"test\"}, {\"color\": \"rgba(125, 256, 122, 1.0)\", \"source\": 0, \"target\": 2, \"title\": \"test\"}, {\"color\": \"rgba(0, 129, 256, 1.0)\", \"source\": 0, \"target\": 12, \"title\": \"test\"}, {\"color\": \"rgba(125, 256, 122, 1.0)\", \"source\": 0, \"target\": 12, \"title\": \"test\"}, {\"color\": \"rgba(0, 0, 128, 1.0)\", \"source\": 0, \"target\": 21, \"title\": \"test\"}, {\"color\": \"rgba(128, 0, 0, 1.0)\", \"source\": 0, \"target\": 21, \"title\": \"test\"}, {\"color\": \"rgba(0, 129, 256, 1.0)\", \"source\": 0, \"target\": 29, \"title\": \"test\"}, {\"color\": \"rgba(256, 148, 0, 1.0)\", \"source\": 0, \"target\": 29, \"title\": \"test\"}, {\"color\": \"rgba(128, 0, 0, 1.0)\", \"source\": 1, \"target\": 2, \"title\": \"test\"}, {\"color\": \"rgba(256, 148, 0, 1.0)\", \"source\": 1, \"target\": 2, \"title\": \"test\"}, {\"color\": \"rgba(0, 0, 128, 1.0)\", \"source\": 1, \"target\": 3, \"title\": \"test\"}, {\"color\": \"rgba(256, 148, 0, 1.0)\", \"source\": 1, \"target\": 3, \"title\": \"test\"}, {\"color\": \"rgba(125, 256, 122, 1.0)\", \"source\": 1, \"target\": 29, \"title\": \"test\"}, {\"color\": \"rgba(0, 0, 128, 1.0)\", \"source\": 1, \"target\": 29, \"title\": \"test\"}, {\"color\": \"rgba(256, 148, 0, 1.0)\", \"source\": 2, \"target\": 4, \"title\": \"test\"}, {\"color\": \"rgba(128, 0, 0, 1.0)\", \"source\": 2, \"target\": 4, \"title\": \"test\"}, {\"color\": \"rgba(125, 256, 122, 1.0)\", \"source\": 2, \"target\": 20, \"title\": \"test\"}, {\"color\": \"rgba(256, 148, 0, 1.0)\", \"source\": 2, \"target\": 20, \"title\": \"test\"}, {\"color\": \"rgba(0, 129, 256, 1.0)\", \"source\": 3, \"target\": 4, \"title\": \"test\"}, {\"color\": \"rgba(0, 0, 128, 1.0)\", \"source\": 3, \"target\": 4, \"title\": \"test\"}, {\"color\": \"rgba(125, 256, 122, 1.0)\", \"source\": 3, \"target\": 5, \"title\": \"test\"}, {\"color\": \"rgba(256, 148, 0, 1.0)\", \"source\": 3, \"target\": 5, \"title\": \"test\"}, {\"color\": \"rgba(0, 129, 256, 1.0)\", \"source\": 3, \"target\": 28, \"title\": \"test\"}, {\"color\": \"rgba(128, 0, 0, 1.0)\", \"source\": 3, \"target\": 28, \"title\": \"test\"}, {\"color\": \"rgba(256, 148, 0, 1.0)\", \"source\": 4, \"target\": 5, \"title\": \"test\"}, {\"color\": \"rgba(0, 0, 128, 1.0)\", \"source\": 4, \"target\": 5, \"title\": \"test\"}, {\"color\": \"rgba(0, 0, 128, 1.0)\", \"source\": 4, \"target\": 6, \"title\": \"test\"}, {\"color\": \"rgba(0, 129, 256, 1.0)\", \"source\": 4, \"target\": 6, \"title\": \"test\"}, {\"color\": \"rgba(125, 256, 122, 1.0)\", \"source\": 4, \"target\": 8, \"title\": \"test\"}, {\"color\": \"rgba(0, 0, 128, 1.0)\", \"source\": 4, \"target\": 8, \"title\": \"test\"}, {\"color\": \"rgba(256, 148, 0, 1.0)\", \"source\": 4, \"target\": 9, \"title\": \"test\"}, {\"color\": \"rgba(0, 129, 256, 1.0)\", \"source\": 4, \"target\": 9, \"title\": \"test\"}, {\"color\": \"rgba(0, 129, 256, 1.0)\", \"source\": 5, \"target\": 15, \"title\": \"test\"}, {\"color\": \"rgba(0, 0, 128, 1.0)\", \"source\": 5, \"target\": 15, \"title\": \"test\"}, {\"color\": \"rgba(125, 256, 122, 1.0)\", \"source\": 5, \"target\": 6, \"title\": \"test\"}, {\"color\": \"rgba(125, 256, 122, 1.0)\", \"source\": 5, \"target\": 6, \"title\": \"test\"}, {\"color\": \"rgba(256, 148, 0, 1.0)\", \"source\": 5, \"target\": 23, \"title\": \"test\"}, {\"color\": \"rgba(0, 129, 256, 1.0)\", \"source\": 5, \"target\": 23, \"title\": \"test\"}, {\"color\": \"rgba(128, 0, 0, 1.0)\", \"source\": 6, \"target\": 20, \"title\": \"test\"}, {\"color\": \"rgba(125, 256, 122, 1.0)\", \"source\": 6, \"target\": 20, \"title\": \"test\"}, {\"color\": \"rgba(0, 0, 128, 1.0)\", \"source\": 6, \"target\": 7, \"title\": \"test\"}, {\"color\": \"rgba(0, 0, 128, 1.0)\", \"source\": 6, \"target\": 7, \"title\": \"test\"}, {\"color\": \"rgba(125, 256, 122, 1.0)\", \"source\": 7, \"target\": 8, \"title\": \"test\"}, {\"color\": \"rgba(0, 129, 256, 1.0)\", \"source\": 7, \"target\": 8, \"title\": \"test\"}, {\"color\": \"rgba(0, 0, 128, 1.0)\", \"source\": 7, \"target\": 23, \"title\": \"test\"}, {\"color\": \"rgba(0, 0, 128, 1.0)\", \"source\": 7, \"target\": 23, \"title\": \"test\"}, {\"color\": \"rgba(128, 0, 0, 1.0)\", \"source\": 8, \"target\": 18, \"title\": \"test\"}, {\"color\": \"rgba(128, 0, 0, 1.0)\", \"source\": 8, \"target\": 18, \"title\": \"test\"}, {\"color\": \"rgba(125, 256, 122, 1.0)\", \"source\": 9, \"target\": 16, \"title\": \"test\"}, {\"color\": \"rgba(256, 148, 0, 1.0)\", \"source\": 9, \"target\": 16, \"title\": \"test\"}, {\"color\": \"rgba(0, 129, 256, 1.0)\", \"source\": 10, \"target\": 12, \"title\": \"test\"}, {\"color\": \"rgba(0, 129, 256, 1.0)\", \"source\": 10, \"target\": 12, \"title\": \"test\"}, {\"color\": \"rgba(128, 0, 0, 1.0)\", \"source\": 10, \"target\": 20, \"title\": \"test\"}, {\"color\": \"rgba(125, 256, 122, 1.0)\", \"source\": 10, \"target\": 20, \"title\": \"test\"}, {\"color\": \"rgba(0, 0, 128, 1.0)\", \"source\": 11, \"target\": 12, \"title\": \"test\"}, {\"color\": \"rgba(256, 148, 0, 1.0)\", \"source\": 11, \"target\": 12, \"title\": \"test\"}, {\"color\": \"rgba(125, 256, 122, 1.0)\", \"source\": 11, \"target\": 13, \"title\": \"test\"}, {\"color\": \"rgba(256, 148, 0, 1.0)\", \"source\": 11, \"target\": 13, \"title\": \"test\"}, {\"color\": \"rgba(256, 148, 0, 1.0)\", \"source\": 12, \"target\": 15, \"title\": \"test\"}, {\"color\": \"rgba(0, 129, 256, 1.0)\", \"source\": 12, \"target\": 15, \"title\": \"test\"}, {\"color\": \"rgba(0, 0, 128, 1.0)\", \"source\": 13, \"target\": 14, \"title\": \"test\"}, {\"color\": \"rgba(256, 148, 0, 1.0)\", \"source\": 13, \"target\": 14, \"title\": \"test\"}, {\"color\": \"rgba(125, 256, 122, 1.0)\", \"source\": 13, \"target\": 15, \"title\": \"test\"}, {\"color\": \"rgba(0, 129, 256, 1.0)\", \"source\": 13, \"target\": 15, \"title\": \"test\"}, {\"color\": \"rgba(128, 0, 0, 1.0)\", \"source\": 14, \"target\": 16, \"title\": \"test\"}, {\"color\": \"rgba(0, 129, 256, 1.0)\", \"source\": 14, \"target\": 16, \"title\": \"test\"}, {\"color\": \"rgba(0, 0, 128, 1.0)\", \"source\": 14, \"target\": 22, \"title\": \"test\"}, {\"color\": \"rgba(125, 256, 122, 1.0)\", \"source\": 14, \"target\": 22, \"title\": \"test\"}, {\"color\": \"rgba(128, 0, 0, 1.0)\", \"source\": 14, \"target\": 15, \"title\": \"test\"}, {\"color\": \"rgba(0, 0, 128, 1.0)\", \"source\": 14, \"target\": 15, \"title\": \"test\"}, {\"color\": \"rgba(125, 256, 122, 1.0)\", \"source\": 15, \"target\": 16, \"title\": \"test\"}, {\"color\": \"rgba(0, 0, 128, 1.0)\", \"source\": 15, \"target\": 16, \"title\": \"test\"}, {\"color\": \"rgba(256, 148, 0, 1.0)\", \"source\": 15, \"target\": 17, \"title\": \"test\"}, {\"color\": \"rgba(0, 129, 256, 1.0)\", \"source\": 15, \"target\": 17, \"title\": \"test\"}, {\"color\": \"rgba(0, 0, 128, 1.0)\", \"source\": 16, \"target\": 18, \"title\": \"test\"}, {\"color\": \"rgba(128, 0, 0, 1.0)\", \"source\": 16, \"target\": 18, \"title\": \"test\"}, {\"color\": \"rgba(256, 148, 0, 1.0)\", \"source\": 16, \"target\": 19, \"title\": \"test\"}, {\"color\": \"rgba(0, 0, 128, 1.0)\", \"source\": 16, \"target\": 19, \"title\": \"test\"}, {\"color\": \"rgba(256, 148, 0, 1.0)\", \"source\": 16, \"target\": 27, \"title\": \"test\"}, {\"color\": \"rgba(0, 129, 256, 1.0)\", \"source\": 16, \"target\": 27, \"title\": \"test\"}, {\"color\": \"rgba(0, 129, 256, 1.0)\", \"source\": 17, \"target\": 18, \"title\": \"test\"}, {\"color\": \"rgba(256, 148, 0, 1.0)\", \"source\": 17, \"target\": 18, \"title\": \"test\"}, {\"color\": \"rgba(128, 0, 0, 1.0)\", \"source\": 17, \"target\": 19, \"title\": \"test\"}, {\"color\": \"rgba(256, 148, 0, 1.0)\", \"source\": 17, \"target\": 19, \"title\": \"test\"}, {\"color\": \"rgba(0, 129, 256, 1.0)\", \"source\": 18, \"target\": 19, \"title\": \"test\"}, {\"color\": \"rgba(256, 148, 0, 1.0)\", \"source\": 18, \"target\": 19, \"title\": \"test\"}, {\"color\": \"rgba(256, 148, 0, 1.0)\", \"source\": 18, \"target\": 20, \"title\": \"test\"}, {\"color\": \"rgba(256, 148, 0, 1.0)\", \"source\": 18, \"target\": 20, \"title\": \"test\"}, {\"color\": \"rgba(128, 0, 0, 1.0)\", \"source\": 19, \"target\": 20, \"title\": \"test\"}, {\"color\": \"rgba(256, 148, 0, 1.0)\", \"source\": 19, \"target\": 20, \"title\": \"test\"}, {\"color\": \"rgba(128, 0, 0, 1.0)\", \"source\": 19, \"target\": 29, \"title\": \"test\"}, {\"color\": \"rgba(0, 0, 128, 1.0)\", \"source\": 19, \"target\": 29, \"title\": \"test\"}, {\"color\": \"rgba(128, 0, 0, 1.0)\", \"source\": 20, \"target\": 21, \"title\": \"test\"}, {\"color\": \"rgba(125, 256, 122, 1.0)\", \"source\": 20, \"target\": 21, \"title\": \"test\"}, {\"color\": \"rgba(256, 148, 0, 1.0)\", \"source\": 20, \"target\": 22, \"title\": \"test\"}, {\"color\": \"rgba(0, 129, 256, 1.0)\", \"source\": 20, \"target\": 22, \"title\": \"test\"}, {\"color\": \"rgba(128, 0, 0, 1.0)\", \"source\": 20, \"target\": 24, \"title\": \"test\"}, {\"color\": \"rgba(256, 148, 0, 1.0)\", \"source\": 20, \"target\": 24, \"title\": \"test\"}, {\"color\": \"rgba(128, 0, 0, 1.0)\", \"source\": 20, \"target\": 25, \"title\": \"test\"}, {\"color\": \"rgba(0, 129, 256, 1.0)\", \"source\": 20, \"target\": 25, \"title\": \"test\"}, {\"color\": \"rgba(128, 0, 0, 1.0)\", \"source\": 21, \"target\": 22, \"title\": \"test\"}, {\"color\": \"rgba(125, 256, 122, 1.0)\", \"source\": 21, \"target\": 22, \"title\": \"test\"}, {\"color\": \"rgba(0, 0, 128, 1.0)\", \"source\": 22, \"target\": 24, \"title\": \"test\"}, {\"color\": \"rgba(128, 0, 0, 1.0)\", \"source\": 22, \"target\": 24, \"title\": \"test\"}, {\"color\": \"rgba(0, 129, 256, 1.0)\", \"source\": 23, \"target\": 24, \"title\": \"test\"}, {\"color\": \"rgba(128, 0, 0, 1.0)\", \"source\": 23, \"target\": 24, \"title\": \"test\"}, {\"color\": \"rgba(256, 148, 0, 1.0)\", \"source\": 24, \"target\": 25, \"title\": \"test\"}, {\"color\": \"rgba(0, 129, 256, 1.0)\", \"source\": 24, \"target\": 25, \"title\": \"test\"}, {\"color\": \"rgba(128, 0, 0, 1.0)\", \"source\": 25, \"target\": 27, \"title\": \"test\"}, {\"color\": \"rgba(0, 0, 128, 1.0)\", \"source\": 25, \"target\": 27, \"title\": \"test\"}, {\"color\": \"rgba(0, 0, 128, 1.0)\", \"source\": 26, \"target\": 27, \"title\": \"test\"}, {\"color\": \"rgba(125, 256, 122, 1.0)\", \"source\": 26, \"target\": 27, \"title\": \"test\"}, {\"color\": \"rgba(0, 0, 128, 1.0)\", \"source\": 26, \"target\": 28, \"title\": \"test\"}, {\"color\": \"rgba(256, 148, 0, 1.0)\", \"source\": 26, \"target\": 28, \"title\": \"test\"}, {\"color\": \"rgba(125, 256, 122, 1.0)\", \"source\": 27, \"target\": 28, \"title\": \"test\"}, {\"color\": \"rgba(128, 0, 0, 1.0)\", \"source\": 27, \"target\": 28, \"title\": \"test\"}, {\"color\": \"rgba(128, 0, 0, 1.0)\", \"source\": 28, \"target\": 29, \"title\": \"test\"}, {\"color\": \"rgba(128, 0, 0, 1.0)\", \"source\": 28, \"target\": 29, \"title\": \"test\"}]);}</script><iframe name=\"style_file0\" src=\"style_file0.html\" width=\"100%;\" height=\"805px\"></iframe></body></html>"
      ],
      "text/plain": [
       "<IPython.core.display.HTML object>"
      ]
     },
     "execution_count": 8,
     "metadata": {},
     "output_type": "execute_result"
    }
   ],
   "source": [
    "# set node initial positions using networkx's spring_layout function\n",
    "pos = nx.spring_layout(G)\n",
    "\n",
    "nodes_dict = [{\"id\":n,\"color\":node_to_color[n],\n",
    "               \"degree\":nx.degree(G,n),\n",
    "              \"x\":pos[n][0]*1000,\n",
    "              \"y\":pos[n][1]*1000} for n in nodes\n",
    "              ]\n",
    "node_map = dict(zip(nodes,range(len(nodes))))  # map to indices for source/target in edges\n",
    "edges_dict = [{\"source\":node_map[edges[i][0]], \"target\":node_map[edges[i][1]], \n",
    "              \"color\":edge_to_color[(edges[i][0],edges[i][1],edges[i][2])],\"title\":'test'} # remember (source, target, key)\n",
    "              for i in range(len(edges))]\n",
    "\n",
    "# set some network-wide styles\n",
    "visJS_module.visjs_network(nodes_dict,edges_dict,\n",
    "                          node_size_multiplier=3,\n",
    "                          node_size_transform = '',\n",
    "                          node_color_highlight_border='red',\n",
    "                          node_color_highlight_background='#D3918B',\n",
    "                          node_color_hover_border='blue',\n",
    "                          node_color_hover_background='#8BADD3',\n",
    "                          node_font_size=25,\n",
    "                          edge_arrow_to=True,\n",
    "                          physics_enabled=True,\n",
    "                          edge_color_highlight='#8A324E',\n",
    "                          edge_color_hover='#8BADD3',\n",
    "                          edge_width=3,\n",
    "                          max_velocity=15,\n",
    "                          min_velocity=1,\n",
    "                          edge_smooth_enabled = True)"
   ]
  },
  {
   "cell_type": "code",
   "execution_count": null,
   "metadata": {
    "collapsed": true
   },
   "outputs": [],
   "source": []
  }
 ],
 "metadata": {
  "kernelspec": {
   "display_name": "Python 2",
   "language": "python",
   "name": "python2"
  },
  "language_info": {
   "codemirror_mode": {
    "name": "ipython",
    "version": 2
   },
   "file_extension": ".py",
   "mimetype": "text/x-python",
   "name": "python",
   "nbconvert_exporter": "python",
   "pygments_lexer": "ipython2",
   "version": "2.7.14"
  }
 },
 "nbformat": 4,
 "nbformat_minor": 1
}
